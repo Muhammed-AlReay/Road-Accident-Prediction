{
 "cells": [
  {
   "cell_type": "markdown",
   "id": "899234de-20fe-475e-99b3-8a4f59dd7cea",
   "metadata": {},
   "source": [
    "# The code provides both time-series forecasts of future accident rates and severity levels, plus classification models to predict accident severity based on various features."
   ]
  },
  {
   "cell_type": "code",
   "execution_count": null,
   "id": "340f10e4",
   "metadata": {},
   "outputs": [],
   "source": [
    "import pandas as pd\n",
    "import numpy as np\n",
    "import matplotlib.pyplot as plt\n",
    "import seaborn as sns\n",
    "from sklearn.impute import SimpleImputer\n",
    "from sklearn.preprocessing import MinMaxScaler, LabelEncoder\n",
    "from sklearn.model_selection import train_test_split\n",
    "from sklearn.metrics import accuracy_score, precision_score, recall_score, f1_score\n",
    "from sklearn.linear_model import LogisticRegression\n",
    "from sklearn.naive_bayes import GaussianNB\n",
    "from statsmodels.tsa.arima.model import ARIMA\n",
    "from statsmodels.tsa.seasonal import seasonal_decompose\n",
    "from imblearn.over_sampling import SMOTE\n",
    "from tqdm import tqdm"
   ]
  },
  {
   "cell_type": "code",
   "execution_count": null,
   "id": "0d045a27",
   "metadata": {},
   "outputs": [],
   "source": [
    "df = pd.read_csv(r'F:\\Education\\third year/2 term\\ML\\total section\\tasks\\Road Accident Data\\dataset\\Road Accident Data.csv')\n",
    "df.head()"
   ]
  },
  {
   "cell_type": "code",
   "execution_count": null,
   "id": "86b20ece",
   "metadata": {},
   "outputs": [],
   "source": [
    "df.tail()"
   ]
  },
  {
   "cell_type": "code",
   "execution_count": null,
   "id": "39f4b026",
   "metadata": {},
   "outputs": [],
   "source": [
    "df.info()"
   ]
  },
  {
   "cell_type": "code",
   "execution_count": null,
   "id": "3369b9ce",
   "metadata": {},
   "outputs": [],
   "source": [
    "df.describe()"
   ]
  },
  {
   "cell_type": "code",
   "execution_count": null,
   "id": "678e9389",
   "metadata": {},
   "outputs": [],
   "source": [
    "df.columns"
   ]
  },
  {
   "cell_type": "code",
   "execution_count": null,
   "id": "c094ff1b",
   "metadata": {},
   "outputs": [],
   "source": [
    "df.shape"
   ]
  },
  {
   "cell_type": "markdown",
   "id": "ca035eca",
   "metadata": {},
   "source": [
    "# EDA (Data Cleaning)\n"
   ]
  },
  {
   "cell_type": "code",
   "execution_count": null,
   "id": "7a4a933c",
   "metadata": {},
   "outputs": [],
   "source": [
    "print(\"\\nCleaning data...\")\n",
    "columns_to_drop = ['Accident_Index', 'Carriageway_Hazards']\n",
    "df.drop(columns_to_drop, axis=1, inplace=True)"
   ]
  },
  {
   "cell_type": "code",
   "execution_count": null,
   "id": "2637f5c4",
   "metadata": {},
   "outputs": [],
   "source": [
    "df.duplicated().sum()"
   ]
  },
  {
   "cell_type": "code",
   "execution_count": null,
   "id": "a60ed9bd",
   "metadata": {},
   "outputs": [],
   "source": [
    "df.drop_duplicates(inplace=True)"
   ]
  },
  {
   "cell_type": "code",
   "execution_count": null,
   "id": "24f18dd9",
   "metadata": {},
   "outputs": [],
   "source": [
    "df.isnull().sum().sort_index(ascending=False)"
   ]
  },
  {
   "cell_type": "markdown",
   "id": "868c7d84-b440-4d65-851f-79da2ba949a0",
   "metadata": {},
   "source": [
    "# Replacing missing values with most frequent data"
   ]
  },
  {
   "cell_type": "code",
   "execution_count": null,
   "id": "863e644f",
   "metadata": {},
   "outputs": [],
   "source": [
    "from sklearn.impute import SimpleImputer\n",
    "imputer=SimpleImputer(missing_values=np.nan,strategy='most_frequent')\n",
    "df['Road_Surface_Conditions'] = imputer.fit_transform(df[['Road_Surface_Conditions']]).ravel()\n",
    "df['Weather_Conditions'] = imputer.fit_transform(df[['Weather_Conditions']]).ravel()\n",
    "df['Time'] = imputer.fit_transform(df[['Time']]).ravel()\n",
    "df['Road_Type'] = imputer.fit_transform(df[['Road_Type']]).ravel()\n"
   ]
  },
  {
   "cell_type": "code",
   "execution_count": null,
   "id": "b7c07187",
   "metadata": {},
   "outputs": [],
   "source": [
    "df.isnull().sum().sort_index(ascending=False)"
   ]
  },
  {
   "cell_type": "code",
   "execution_count": null,
   "id": "e8eba53d",
   "metadata": {},
   "outputs": [],
   "source": [
    "df.columns"
   ]
  },
  {
   "cell_type": "markdown",
   "id": "a0deb890-57c2-4529-bcbf-fd96832cad59",
   "metadata": {},
   "source": [
    "# Data Visualisation"
   ]
  },
  {
   "cell_type": "code",
   "execution_count": null,
   "id": "c63d7c14",
   "metadata": {},
   "outputs": [],
   "source": [
    "plt.figure(figsize=(10,6))\n",
    "sns.countplot(data=df, x='Month', order=df['Month'].value_counts().index)\n",
    "plt.title('Number of Accidents per Month')\n",
    "plt.xlabel('Month')\n",
    "plt.ylabel('Accident Count')\n",
    "plt.xticks(rotation=45)\n",
    "plt.tight_layout()\n",
    "plt.show()\n"
   ]
  },
  {
   "cell_type": "code",
   "execution_count": null,
   "id": "191f52bb",
   "metadata": {},
   "outputs": [],
   "source": [
    "plt.figure(figsize=(10,6))\n",
    "sns.countplot(data=df, x='Light_Conditions', hue='Accident_Severity')\n",
    "plt.title('Accident Severity by Light Conditions')\n",
    "plt.xlabel('Light Conditions')\n",
    "plt.ylabel('Accident Count')\n",
    "plt.xticks(rotation=45)\n",
    "plt.tight_layout()\n",
    "plt.show()\n"
   ]
  },
  {
   "cell_type": "code",
   "execution_count": null,
   "id": "4280cc90",
   "metadata": {},
   "outputs": [],
   "source": [
    "\n",
    "numeric_cols = df.select_dtypes(include=['int64', 'float64'])\n",
    "corr_matrix = numeric_cols.corr()\n",
    "plt.figure(figsize=(10,8))\n",
    "sns.heatmap(corr_matrix, annot=True, cmap='coolwarm', fmt=\".2f\", linewidths=0.5)\n",
    "plt.title('Correlation Heatmap of Numerical Features')\n",
    "plt.tight_layout()\n",
    "plt.show()\n"
   ]
  },
  {
   "cell_type": "code",
   "execution_count": null,
   "id": "06d0257e",
   "metadata": {},
   "outputs": [],
   "source": [
    "plt.figure(figsize=(10,6))\n",
    "sns.boxplot(data=df, x='Accident_Severity', y='Speed_limit')\n",
    "plt.title('Speed Limit Distribution by Accident Severity')\n",
    "plt.xlabel('Accident Severity')\n",
    "plt.ylabel('Speed Limit')\n",
    "plt.tight_layout()\n",
    "plt.show()\n"
   ]
  },
  {
   "cell_type": "code",
   "execution_count": null,
   "id": "a3ed739e",
   "metadata": {},
   "outputs": [],
   "source": [
    "road_surface_counts = df['Road_Surface_Conditions'].value_counts()\n",
    "plt.figure(figsize=(8,8))\n",
    "plt.pie(road_surface_counts, labels=road_surface_counts.index, autopct='%1.1f%%', startangle=140)\n",
    "plt.title('Distribution of Road Surface Conditions')\n",
    "plt.tight_layout()\n",
    "plt.show()\n"
   ]
  },
  {
   "cell_type": "code",
   "execution_count": null,
   "id": "7c0fa5bf-ab09-403a-84b3-1eec1c25bc38",
   "metadata": {},
   "outputs": [],
   "source": [
    "# Feature engineering\n",
    "print(\"\\nCreating new features...\")\n",
    "df['Hour'] = pd.to_datetime(df['Time']).dt.hour\n",
    "df['Is_Night'] = df['Hour'].apply(lambda x: 1 if x < 6 or x > 18 else 0)\n",
    "df['Bad_Weather'] = df['Weather_Conditions'].apply(lambda x: 1 if x in ['Rain', 'Snow', 'Fog'] else 0)"
   ]
  },
  {
   "cell_type": "code",
   "execution_count": null,
   "id": "3840d520-b31b-45a6-aee0-4c4fc320d33b",
   "metadata": {},
   "outputs": [],
   "source": [
    "print(\"Columns in DataFrame:\", df.columns.tolist())"
   ]
  },
  {
   "cell_type": "code",
   "execution_count": null,
   "id": "4e666c1a-2a44-4cae-b3aa-97c8694f6a92",
   "metadata": {},
   "outputs": [],
   "source": [
    "# Convert accident date to datetime\n",
    "print(\"\\nProcessing dates...\")\n",
    "df['Accident Date'] = pd.to_datetime(df['Accident Date'])"
   ]
  },
  {
   "cell_type": "code",
   "execution_count": null,
   "id": "6fd05969-9bb7-4f3f-9db8-c1dc4d430e4f",
   "metadata": {},
   "outputs": [],
   "source": [
    "# Time Series Analysis\n",
    "print(\"\\nPerforming time series analysis...\")\n",
    "monthly_accidents = df.resample('M', on='Accident Date').size()\n",
    "severity_trends = df.groupby([pd.Grouper(key='Accident Date', freq='M'), 'Accident_Severity']).size().unstack()"
   ]
  },
  {
   "cell_type": "code",
   "execution_count": null,
   "id": "a476edde-dd86-4c4a-981f-e3d367416737",
   "metadata": {},
   "outputs": [],
   "source": [
    "# ARIMA Modeling for accident prediction\n",
    "print(\"\\nBuilding ARIMA model...\")\n",
    "model = ARIMA(monthly_accidents, order=(5,1,0), seasonal_order=(1,1,1,12))\n",
    "model_fit = model.fit()"
   ]
  },
  {
   "cell_type": "code",
   "execution_count": null,
   "id": "754a0897-d5a3-44cc-bfc5-86b39ac7ad99",
   "metadata": {},
   "outputs": [],
   "source": [
    "# 5-month forecast\n",
    "forecast_steps = 5\n",
    "forecast = model_fit.get_forecast(steps=forecast_steps)\n",
    "forecast_index = pd.date_range(monthly_accidents.index[-1], periods=forecast_steps+1, freq='M')[1:]\n",
    "forecast_values = forecast.predicted_mean\n",
    "conf_int = forecast.conf_int()"
   ]
  },
  {
   "cell_type": "code",
   "execution_count": null,
   "id": "37cf3748-469c-4b9a-aa33-858eb4dc4a07",
   "metadata": {},
   "outputs": [],
   "source": [
    "# Severity level forecasting\n",
    "severity_forecasts = {}\n",
    "for severity in severity_trends.columns:\n",
    "    model_sev = ARIMA(severity_trends[severity].fillna(0), order=(3,1,1))\n",
    "    model_fit_sev = model_sev.fit()\n",
    "    severity_forecasts[severity] = model_fit_sev.get_forecast(steps=5).predicted_mean\n",
    "\n",
    "forecast_severity = pd.DataFrame(severity_forecasts, index=forecast_index)"
   ]
  },
  {
   "cell_type": "code",
   "execution_count": null,
   "id": "c107a2d3-1887-4575-9324-36e9a81551cb",
   "metadata": {},
   "outputs": [],
   "source": [
    "# Visualization\n",
    "print(\"\\nGenerating visualizations...\")\n",
    "plt.figure(figsize=(15, 10))\n",
    "plt.subplot(2, 1, 1)\n",
    "plt.plot(monthly_accidents.index, monthly_accidents, label='Historical Data')\n",
    "plt.plot(forecast_index, forecast_values, color='red', label='Forecast')\n",
    "plt.fill_between(forecast_index, conf_int.iloc[:,0], conf_int.iloc[:,1], color='pink', alpha=0.3)\n",
    "plt.title('5-Month Accident Forecast')\n",
    "plt.ylabel('Number of Accidents')\n",
    "plt.legend()\n",
    "plt.grid(True)\n",
    "\n",
    "plt.subplot(2, 1, 2)\n",
    "forecast_severity.plot(kind='area', stacked=True, ax=plt.gca())\n",
    "plt.title('Predicted Accident Severity Distribution')\n",
    "plt.ylabel('Number of Accidents')\n",
    "plt.xlabel('Date')\n",
    "plt.grid(True)\n",
    "\n",
    "plt.tight_layout()\n",
    "plt.show()\n"
   ]
  },
  {
   "cell_type": "code",
   "execution_count": null,
   "id": "82c1a6ab-2665-4d35-bea7-586df0cd29e8",
   "metadata": {},
   "outputs": [],
   "source": [
    "# Print forecast summary\n",
    "print(\"\\nForecast Summary:\")\n",
    "print(\"1. Total Accident Forecast:\")\n",
    "for i, (date, value) in enumerate(zip(forecast_index, forecast_values), 1):\n",
    "    print(f\"   Month {i}: {date.strftime('%Y-%m')} - {value:.0f} ±{((conf_int.iloc[i-1,1]-conf_int.iloc[i-1,0])/2):.0f} accidents\")\n",
    "\n",
    "print(\"\\n2. Severity Distribution Forecast:\")\n",
    "print(forecast_severity.round().astype(int))"
   ]
  },
  {
   "cell_type": "markdown",
   "id": "b921e0b5-b389-4f8e-b737-80088771426a",
   "metadata": {},
   "source": [
    "# Determining which column to encode"
   ]
  },
  {
   "cell_type": "code",
   "execution_count": null,
   "id": "7eb34617",
   "metadata": {},
   "outputs": [],
   "source": [
    "df.info()"
   ]
  },
  {
   "cell_type": "code",
   "execution_count": null,
   "id": "a01744cd",
   "metadata": {},
   "outputs": [],
   "source": [
    "for col in ['Month', 'Day_of_Week', 'Junction_Control', 'Junction_Detail',\n",
    "       'Accident_Severity', 'Light_Conditions',\n",
    "       'Local_Authority_(District)',\n",
    "        'Police_Force', 'Road_Surface_Conditions',\n",
    "       'Road_Type', 'Time', 'Urban_or_Rural_Area',\n",
    "       'Weather_Conditions', 'Vehicle_Type']:\n",
    "    print(f\"Unique values in {col}: {df[col].unique()}\")\n",
    "    print(f\"number of unique values in {col}: {df[col].nunique()}\")\n",
    "    print(\"\\n\")"
   ]
  },
  {
   "cell_type": "markdown",
   "id": "eb7584ba",
   "metadata": {},
   "source": [
    "# Encoding"
   ]
  },
  {
   "cell_type": "code",
   "execution_count": null,
   "id": "7eca9671",
   "metadata": {},
   "outputs": [],
   "source": [
    "# Prepare data for classification\n",
    "print(\"\\nPreparing data for classification models...\")\n",
    "LE = LabelEncoder()\n",
    "categorical_cols = ['Month', 'Day_of_Week', 'Junction_Control', 'Junction_Detail',\n",
    "                   'Light_Conditions', 'Local_Authority_(District)', 'Police_Force', \n",
    "                   'Road_Surface_Conditions', 'Road_Type', 'Urban_or_Rural_Area',\n",
    "                   'Weather_Conditions', 'Vehicle_Type']\n",
    "\n",
    "for col in categorical_cols:\n",
    "    df[col] = LE.fit_transform(df[col])"
   ]
  },
  {
   "cell_type": "code",
   "execution_count": null,
   "id": "473e76e3",
   "metadata": {},
   "outputs": [],
   "source": [
    "df.head()"
   ]
  },
  {
   "cell_type": "code",
   "execution_count": null,
   "id": "9eca7f01",
   "metadata": {},
   "outputs": [],
   "source": [
    "df.info()"
   ]
  },
  {
   "cell_type": "code",
   "execution_count": null,
   "id": "4d47854f-85da-4ba3-b61d-3cfeaf029170",
   "metadata": {},
   "outputs": [],
   "source": [
    "# putting target in the end"
   ]
  },
  {
   "cell_type": "code",
   "execution_count": null,
   "id": "cf699fcf",
   "metadata": {},
   "outputs": [],
   "source": [
    "Accident_Severity = df['Accident_Severity']\n",
    "df.drop(['Accident_Severity'], axis=1, inplace=True)\n",
    "df['Accident_Severity'] = Accident_Severity\n",
    "df.head()"
   ]
  },
  {
   "cell_type": "markdown",
   "id": "0ae4cd80",
   "metadata": {},
   "source": [
    "# spliting"
   ]
  },
  {
   "cell_type": "code",
   "execution_count": null,
   "id": "1c5fe65f",
   "metadata": {},
   "outputs": [],
   "source": [
    "# Split data\n",
    "X = df.drop(['Accident_Severity', 'Accident Date'], axis=1)\n",
    "y = df['Accident_Severity']"
   ]
  },
  {
   "cell_type": "code",
   "execution_count": null,
   "id": "d77dd7c0",
   "metadata": {},
   "outputs": [],
   "source": [
    "X.shape, y.shape"
   ]
  },
  {
   "cell_type": "code",
   "execution_count": null,
   "id": "50e107dd",
   "metadata": {},
   "outputs": [],
   "source": [
    "X.head()"
   ]
  },
  {
   "cell_type": "code",
   "execution_count": null,
   "id": "e8a19fda",
   "metadata": {},
   "outputs": [],
   "source": [
    "y.head()"
   ]
  },
  {
   "cell_type": "markdown",
   "id": "cb91d451",
   "metadata": {},
   "source": [
    "# Outlier"
   ]
  },
  {
   "cell_type": "code",
   "execution_count": null,
   "id": "3741eee0-6a79-4922-bb76-af68f9e3a064",
   "metadata": {},
   "outputs": [],
   "source": [
    "numeric_cols = df.select_dtypes(include=['int64', 'float64']).columns.tolist()\n",
    "print(\"Numeric columns:\", numeric_cols)"
   ]
  },
  {
   "cell_type": "code",
   "execution_count": null,
   "id": "32c18637",
   "metadata": {},
   "outputs": [],
   "source": [
    "def outliers(df, column):\n",
    "    if df[column].dtype in ['int64', 'float64']:  # Only for numeric columns\n",
    "        Q1 = df[column].quantile(0.25)      \n",
    "        Q3 = df[column].quantile(0.75)       \n",
    "        IQR = Q3 - Q1                        \n",
    "        outlier_indices = df[\n",
    "            (df[column] < (Q1 - 1.5 * IQR)) | \n",
    "            (df[column] > (Q3 + 1.5 * IQR))\n",
    "        ].index                              \n",
    "        return outlier_indices\n",
    "    return pd.Index([])  # Return empty index for non-numeric columns\n",
    "\n",
    "# Now run only on numeric columns\n",
    "numeric_cols = df.select_dtypes(include=['int64', 'float64']).columns\n",
    "for col in numeric_cols:\n",
    "    outlier_idx = outliers(df, col)\n",
    "    print(f\"{col} => outlier_idx : {len(outlier_idx)}\")\n"
   ]
  },
  {
   "cell_type": "code",
   "execution_count": null,
   "id": "f5222fd9",
   "metadata": {},
   "outputs": [],
   "source": [
    "outlier_counts = {\n",
    "    'Junction_Control': 2145,\n",
    "    'Accident_Severity': 44693,\n",
    "    'Light_Conditions': 63017,\n",
    "    'Road_Type': 75826,\n",
    "    'Weather_Conditions': 57419,\n",
    "    'Vehicle_Type': 68179\n",
    "}\n",
    "\n",
    "outlier_df = pd.DataFrame(list(outlier_counts.items()), columns=['Feature', 'Outlier Count'])\n",
    "outlier_df = outlier_df.sort_values(by='Outlier Count', ascending=False)\n",
    "\n",
    "plt.figure(figsize=(12,6))\n",
    "sns.barplot(data=outlier_df, x='Feature', y='Outlier Count', palette='Reds_r')\n",
    "plt.title('Number of Outliers per Feature')\n",
    "plt.xticks(rotation=45)\n",
    "plt.tight_layout()\n",
    "plt.show()\n"
   ]
  },
  {
   "cell_type": "code",
   "execution_count": null,
   "id": "c6a74e3a",
   "metadata": {},
   "outputs": [],
   "source": [
    "\n",
    "df_numeric = df.copy()\n",
    "df_numeric['Vehicle_Type'] = df_numeric['Vehicle_Type'].astype('category').cat.codes\n",
    "df_numeric['Road_Type'] = df_numeric['Road_Type'].astype('category').cat.codes\n",
    "plt.figure(figsize=(12,5))\n",
    "plt.subplot(1,2,1)\n",
    "sns.boxplot(y=df_numeric['Road_Type'], color='skyblue')\n",
    "plt.title('Boxplot of Road_Type')\n",
    "plt.subplot(1,2,2)\n",
    "sns.boxplot(y=df_numeric['Vehicle_Type'], color='salmon')\n",
    "plt.title('Boxplot of Vehicle_Type')\n",
    "plt.tight_layout()\n",
    "plt.show()\n"
   ]
  },
  {
   "cell_type": "code",
   "execution_count": null,
   "id": "b35cc939",
   "metadata": {},
   "outputs": [],
   "source": [
    "def remove_outliers(df, column):\n",
    "    \"\"\"Remove outliers from a column, handling both numeric and categorical data\"\"\"\n",
    "    if df[column].dtype in ['int64', 'float64']:\n",
    "        # For numeric columns: use IQR method\n",
    "        Q1 = df[column].quantile(0.25)\n",
    "        Q3 = df[column].quantile(0.75)\n",
    "        IQR = Q3 - Q1\n",
    "        lower_bound = Q1 - 1.5 * IQR\n",
    "        upper_bound = Q3 + 1.5 * IQR\n",
    "        return df[(df[column] >= lower_bound) & (df[column] <= upper_bound)]\n",
    "    else:\n",
    "        # For categorical columns: remove rare categories (appearing less than 1% of time)\n",
    "        value_counts = df[column].value_counts(normalize=True)\n",
    "        common_categories = value_counts[value_counts >= 0.01].index\n",
    "        return df[df[column].isin(common_categories)]\n",
    "\n",
    "# Columns to process (including both numeric and categorical)\n",
    "cols_with_outliers = ['Junction_Control', 'Accident_Severity',\n",
    "                     'Light_Conditions', 'Road_Type', 'Weather_Conditions', \n",
    "                     'Vehicle_Type', 'Road_Surface_Conditions']\n",
    "\n",
    "# Remove outliers from each column\n",
    "for col in cols_with_outliers:\n",
    "    print(f\"\\nProcessing column: {col}\")\n",
    "    print(f\"Original shape: {df.shape}\")\n",
    "    df = remove_outliers(df, col)\n",
    "    print(f\"New shape: {df.shape}\")"
   ]
  },
  {
   "cell_type": "code",
   "execution_count": null,
   "id": "e0ef36d2",
   "metadata": {},
   "outputs": [],
   "source": [
    "numeric_cols = ['Month', 'Day_of_Week', 'Junction_Control', 'Junction_Detail',\n",
    "       'Accident_Severity', 'Light_Conditions',\n",
    "       'Local_Authority_(District)',\n",
    "        'Police_Force', 'Road_Surface_Conditions',\n",
    "       'Road_Type', 'Time', 'Urban_or_Rural_Area',\n",
    "       'Weather_Conditions', 'Vehicle_Type']\n",
    "for col in numeric_cols:\n",
    "    outlier_idx = outliers(df, col)\n",
    "    print(f\"{col} => outlier_idx : {len(outlier_idx)}\")"
   ]
  },
  {
   "cell_type": "markdown",
   "id": "840dd24e-f2e7-4392-98ff-485876235dfe",
   "metadata": {},
   "source": [
    "# Making Data balanced"
   ]
  },
  {
   "cell_type": "markdown",
   "id": "9b93f3e9",
   "metadata": {},
   "source": [
    "# Scaling"
   ]
  },
  {
   "cell_type": "code",
   "execution_count": null,
   "id": "106ffffd",
   "metadata": {},
   "outputs": [],
   "source": [
    "# 1. First ensure all features are numeric\n",
    "print(\"Checking data types before normalization:\")\n",
    "print(X.dtypes)  # If X is numpy array, check df.dtypes before splitting\n",
    "\n",
    "# 2. Convert time strings to numerical features (if present)\n",
    "if 'Time' in df.columns:\n",
    "    df['Hour'] = pd.to_datetime(df['Time']).dt.hour\n",
    "    df['Minute'] = pd.to_datetime(df['Time']).dt.minute\n",
    "    df.drop('Time', axis=1, inplace=True)\n",
    "\n",
    "# 3. Ensure all categorical columns are label encoded\n",
    "categorical_cols = X.select_dtypes(include=['object', 'category']).columns\n",
    "if len(categorical_cols) > 0:\n",
    "    print(\"\\nLabel encoding categorical columns:\", list(categorical_cols))\n",
    "    le = LabelEncoder()\n",
    "    for col in categorical_cols:\n",
    "        X[col] = le.fit_transform(X[col])\n",
    "\n",
    "# 4. Now normalize\n",
    "scaler = MinMaxScaler(feature_range=(0, 1))\n",
    "X = scaler.fit_transform(X)"
   ]
  },
  {
   "cell_type": "markdown",
   "id": "7d09651f",
   "metadata": {},
   "source": [
    "# imbalance Data cause overfitting\n"
   ]
  },
  {
   "cell_type": "code",
   "execution_count": null,
   "id": "ae288bc9",
   "metadata": {},
   "outputs": [],
   "source": [
    "y.value_counts().plot.bar(title=\"Accident_Severity\")"
   ]
  },
  {
   "cell_type": "code",
   "execution_count": null,
   "id": "969dd112",
   "metadata": {},
   "outputs": [],
   "source": [
    "print(\"Accident_Severity        : \\n\",y.value_counts())\n",
    "print(\"\\n\")\n",
    "print(y.value_counts(normalize=True))"
   ]
  },
  {
   "cell_type": "markdown",
   "id": "36ebdf00-abbb-40b0-ba53-04dd9ce45f61",
   "metadata": {},
   "source": [
    "# Data balancing"
   ]
  },
  {
   "cell_type": "code",
   "execution_count": null,
   "id": "4f08a370",
   "metadata": {},
   "outputs": [],
   "source": [
    "# Handle class imbalance\n",
    "sm = SMOTE(random_state=42)\n",
    "X, y = sm.fit_resample(X, y)"
   ]
  },
  {
   "cell_type": "code",
   "execution_count": null,
   "id": "9f1803ee",
   "metadata": {},
   "outputs": [],
   "source": [
    "X.shape"
   ]
  },
  {
   "cell_type": "code",
   "execution_count": null,
   "id": "39914e0f",
   "metadata": {},
   "outputs": [],
   "source": [
    "y.shape"
   ]
  },
  {
   "cell_type": "code",
   "execution_count": null,
   "id": "01190228",
   "metadata": {},
   "outputs": [],
   "source": [
    "print(\"Accident_Severity        : \\n\",y.value_counts())\n",
    "print(\"\\n\")\n",
    "print(y.value_counts(normalize=True))"
   ]
  },
  {
   "cell_type": "code",
   "execution_count": null,
   "id": "2b4d60f0",
   "metadata": {},
   "outputs": [],
   "source": [
    "y.value_counts().plot.bar(title=\"Accident_Severity\")"
   ]
  },
  {
   "cell_type": "markdown",
   "id": "445eb2ae-d387-484a-8848-c70f639d8083",
   "metadata": {},
   "source": [
    "# Data Modeling"
   ]
  },
  {
   "cell_type": "code",
   "execution_count": null,
   "id": "6054c8fc",
   "metadata": {},
   "outputs": [],
   "source": [
    "X_train, X_test, y_train, y_test =train_test_split(X,y, test_size= 0.20, random_state=100, stratify=y)"
   ]
  },
  {
   "cell_type": "code",
   "execution_count": null,
   "id": "78ddfa3b",
   "metadata": {},
   "outputs": [],
   "source": [
    "print(\"X_train shape: \", X_train.shape)\n",
    "print(\"X_test shape: \", X_test.shape)   \n",
    "print(\"y_train shape: \", y_train.shape)\n",
    "print(\"y_test shape: \", y_test.shape)"
   ]
  },
  {
   "cell_type": "code",
   "execution_count": null,
   "id": "1378943c",
   "metadata": {},
   "outputs": [],
   "source": [
    "from sklearn.linear_model import LogisticRegression\n",
    "from sklearn.naive_bayes import GaussianNB\n",
    "from sklearn.ensemble import RandomForestClassifier\n",
    "from sklearn.neighbors import KNeighborsClassifier\n",
    "from sklearn.svm import SVC\n",
    "from sklearn.tree import DecisionTreeClassifier\n",
    "from sklearn.metrics import accuracy_score, precision_score, recall_score, f1_score\n",
    "from tqdm import tqdm\n",
    "\n",
    "Models = {\n",
    "    'LogisticRegression': LogisticRegression(),\n",
    "    'GaussianNB': GaussianNB(),\n",
    "    #'KNeighborsClassifier': KNeighborsClassifier(),\n",
    "    'RandomForestClassifier': RandomForestClassifier(),\n",
    "    #'SVC': SVC(),\n",
    "    #'DecisionTreeClassifier': DecisionTreeClassifier()\n",
    "}"
   ]
  },
  {
   "cell_type": "code",
   "execution_count": null,
   "id": "b8d7b917",
   "metadata": {},
   "outputs": [],
   "source": [
    "ModelName = []\n",
    "ModelAccuracy = []\n",
    "\n",
    "for nameModel, model in tqdm(Models.items()):\n",
    "    model.fit(X_train, y_train)\n",
    "    ModelName.append(nameModel)\n",
    "    y_pred = model.predict(X_test)\n",
    "    ModelAccuracy.append([\n",
    "        accuracy_score(y_test, y_pred),\n",
    "        precision_score(y_test, y_pred, average='weighted'), # weighted because of multi classification\n",
    "        recall_score(y_test, y_pred, average='weighted'),\n",
    "        f1_score(y_test, y_pred, average='weighted')\n",
    "    ])\n",
    "\n",
    "Model_accuracy = pd.DataFrame(ModelAccuracy, index=ModelName, columns=['Accuracy', 'Precision', 'Recall', 'F1 Score'])\n",
    "Model_accuracy"
   ]
  },
  {
   "cell_type": "code",
   "execution_count": null,
   "id": "fbb8040f",
   "metadata": {
    "scrolled": true
   },
   "outputs": [],
   "source": [
    "from sklearn.metrics import confusion_matrix\n",
    "print(\"Confusion Matrix: \\n\", confusion_matrix(y_test, y_pred))"
   ]
  },
  {
   "cell_type": "code",
   "execution_count": null,
   "id": "45f7903b",
   "metadata": {},
   "outputs": [],
   "source": [
    "plt.figure(figsize=(8, 6))\n",
    "cm = confusion_matrix(y_test, y_pred)\n",
    "labels = ['Low Severity', 'Medium Severity', 'High Severity']\n",
    "plt.figure(figsize=(8, 6))\n",
    "sns.heatmap(cm, annot=True, fmt='d', cmap='Blues', xticklabels=labels, yticklabels=labels)\n",
    "plt.title('Confusion Matrix')\n",
    "plt.xlabel('Predicted Labels')\n",
    "plt.ylabel('True Labels')\n",
    "plt.show()"
   ]
  },
  {
   "cell_type": "code",
   "execution_count": null,
   "id": "f56f5983",
   "metadata": {},
   "outputs": [],
   "source": [
    "Model_accuracy.plot(kind='bar', figsize=(10, 6))\n",
    "\n",
    "plt.xlabel('Model')\n",
    "plt.ylabel('Scores')\n",
    "plt.title('Model Accuracy Scores')\n",
    "plt.xticks(rotation=45)  \n",
    "plt.legend(loc='upper right')\n",
    "plt.tight_layout() \n",
    "plt.show()"
   ]
  },
  {
   "cell_type": "code",
   "execution_count": null,
   "id": "bba22e26",
   "metadata": {},
   "outputs": [],
   "source": [
    "import pickle\n",
    "pickle.dump(model, open('road_accident_model.sav', 'wb'))\n"
   ]
  }
 ],
 "metadata": {
  "kernelspec": {
   "display_name": "ml_env",
   "language": "python",
   "name": "python3"
  },
  "language_info": {
   "codemirror_mode": {
    "name": "ipython",
    "version": 3
   },
   "file_extension": ".py",
   "mimetype": "text/x-python",
   "name": "python",
   "nbconvert_exporter": "python",
   "pygments_lexer": "ipython3",
   "version": "3.10.18"
  }
 },
 "nbformat": 4,
 "nbformat_minor": 5
}
