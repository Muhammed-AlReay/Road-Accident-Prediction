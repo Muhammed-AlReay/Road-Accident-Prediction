{
 "cells": [
  {
   "cell_type": "markdown",
   "id": "51204728",
   "metadata": {},
   "source": [
    "# The code provides both time-series forecasts of future accident rates and severity levels, plus classification models to predict accident severity based on various features."
   ]
  },
  {
   "cell_type": "code",
   "execution_count": 1,
   "id": "340f10e4",
   "metadata": {},
   "outputs": [],
   "source": [
    "import pandas as pd\n",
    "import numpy as np\n",
    "import matplotlib.pyplot as plt\n",
    "import seaborn as sns\n",
    "from sklearn.impute import SimpleImputer\n",
    "from sklearn.preprocessing import StandardScaler, MinMaxScaler, RobustScaler\n",
    "from sklearn.preprocessing import LabelEncoder, OneHotEncoder\n",
    "from sklearn.model_selection import train_test_split\n",
    "from sklearn.metrics import accuracy_score, confusion_matrix, classification_report\n",
    "from sklearn.linear_model import LogisticRegression \n",
    "import matplotlib.pyplot as plt\n",
    "from sklearn.decomposition import PCA\n",
    "from sklearn.cluster import AgglomerativeClustering\n",
    "import scipy.cluster.hierarchy as sch"
   ]
  },
  {
   "cell_type": "code",
   "execution_count": 2,
   "id": "0d045a27",
   "metadata": {},
   "outputs": [
    {
     "data": {
      "application/vnd.microsoft.datawrangler.viewer.v0+json": {
       "columns": [
        {
         "name": "index",
         "rawType": "int64",
         "type": "integer"
        },
        {
         "name": "Accident_Index",
         "rawType": "object",
         "type": "string"
        },
        {
         "name": "Accident Date",
         "rawType": "object",
         "type": "string"
        },
        {
         "name": "Month",
         "rawType": "object",
         "type": "string"
        },
        {
         "name": "Day_of_Week",
         "rawType": "object",
         "type": "string"
        },
        {
         "name": "Year",
         "rawType": "int64",
         "type": "integer"
        },
        {
         "name": "Junction_Control",
         "rawType": "object",
         "type": "string"
        },
        {
         "name": "Junction_Detail",
         "rawType": "object",
         "type": "string"
        },
        {
         "name": "Accident_Severity",
         "rawType": "object",
         "type": "string"
        },
        {
         "name": "Latitude",
         "rawType": "float64",
         "type": "float"
        },
        {
         "name": "Light_Conditions",
         "rawType": "object",
         "type": "string"
        },
        {
         "name": "Local_Authority_(District)",
         "rawType": "object",
         "type": "string"
        },
        {
         "name": "Carriageway_Hazards",
         "rawType": "object",
         "type": "unknown"
        },
        {
         "name": "Longitude",
         "rawType": "float64",
         "type": "float"
        },
        {
         "name": "Number_of_Casualties",
         "rawType": "int64",
         "type": "integer"
        },
        {
         "name": "Number_of_Vehicles",
         "rawType": "int64",
         "type": "integer"
        },
        {
         "name": "Police_Force",
         "rawType": "object",
         "type": "string"
        },
        {
         "name": "Road_Surface_Conditions",
         "rawType": "object",
         "type": "string"
        },
        {
         "name": "Road_Type",
         "rawType": "object",
         "type": "string"
        },
        {
         "name": "Speed_limit",
         "rawType": "int64",
         "type": "integer"
        },
        {
         "name": "Time",
         "rawType": "object",
         "type": "string"
        },
        {
         "name": "Urban_or_Rural_Area",
         "rawType": "object",
         "type": "string"
        },
        {
         "name": "Weather_Conditions",
         "rawType": "object",
         "type": "string"
        },
        {
         "name": "Vehicle_Type",
         "rawType": "object",
         "type": "string"
        }
       ],
       "conversionMethod": "pd.DataFrame",
       "ref": "e5eb6c8c-8367-45b9-95d7-4a9af0306c21",
       "rows": [
        [
         "0",
         "200901BS70001",
         "1/1/2021",
         "Jan",
         "Thursday",
         "2021",
         "Give way or uncontrolled",
         "T or staggered junction",
         "Serious",
         "51.512273",
         "Daylight",
         "Kensington and Chelsea",
         null,
         "-0.201349",
         "1",
         "2",
         "Metropolitan Police",
         "Dry",
         "One way street",
         "30",
         "15:11",
         "Urban",
         "Fine no high winds",
         "Car"
        ],
        [
         "1",
         "200901BS70002",
         "1/5/2021",
         "Jan",
         "Monday",
         "2021",
         "Give way or uncontrolled",
         "Crossroads",
         "Serious",
         "51.514399",
         "Daylight",
         "Kensington and Chelsea",
         null,
         "-0.199248",
         "11",
         "2",
         "Metropolitan Police",
         "Wet or damp",
         "Single carriageway",
         "30",
         "10:59",
         "Urban",
         "Fine no high winds",
         "Taxi/Private hire car"
        ],
        [
         "2",
         "200901BS70003",
         "1/4/2021",
         "Jan",
         "Sunday",
         "2021",
         "Give way or uncontrolled",
         "T or staggered junction",
         "Slight",
         "51.486668",
         "Daylight",
         "Kensington and Chelsea",
         null,
         "-0.179599",
         "1",
         "2",
         "Metropolitan Police",
         "Dry",
         "Single carriageway",
         "30",
         "14:19",
         "Urban",
         "Fine no high winds",
         "Taxi/Private hire car"
        ],
        [
         "3",
         "200901BS70004",
         "1/5/2021",
         "Jan",
         "Monday",
         "2021",
         "Auto traffic signal",
         "T or staggered junction",
         "Serious",
         "51.507804",
         "Daylight",
         "Kensington and Chelsea",
         null,
         "-0.20311",
         "1",
         "2",
         "Metropolitan Police",
         "Frost or ice",
         "Single carriageway",
         "30",
         "8:10",
         "Urban",
         "Other",
         "Motorcycle over 500cc"
        ],
        [
         "4",
         "200901BS70005",
         "1/6/2021",
         "Jan",
         "Tuesday",
         "2021",
         "Auto traffic signal",
         "Crossroads",
         "Serious",
         "51.482076",
         "Darkness - lights lit",
         "Kensington and Chelsea",
         null,
         "-0.173445",
         "1",
         "2",
         "Metropolitan Police",
         "Dry",
         "Single carriageway",
         "30",
         "17:25",
         "Urban",
         "Fine no high winds",
         "Car"
        ]
       ],
       "shape": {
        "columns": 23,
        "rows": 5
       }
      },
      "text/html": [
       "<div>\n",
       "<style scoped>\n",
       "    .dataframe tbody tr th:only-of-type {\n",
       "        vertical-align: middle;\n",
       "    }\n",
       "\n",
       "    .dataframe tbody tr th {\n",
       "        vertical-align: top;\n",
       "    }\n",
       "\n",
       "    .dataframe thead th {\n",
       "        text-align: right;\n",
       "    }\n",
       "</style>\n",
       "<table border=\"1\" class=\"dataframe\">\n",
       "  <thead>\n",
       "    <tr style=\"text-align: right;\">\n",
       "      <th></th>\n",
       "      <th>Accident_Index</th>\n",
       "      <th>Accident Date</th>\n",
       "      <th>Month</th>\n",
       "      <th>Day_of_Week</th>\n",
       "      <th>Year</th>\n",
       "      <th>Junction_Control</th>\n",
       "      <th>Junction_Detail</th>\n",
       "      <th>Accident_Severity</th>\n",
       "      <th>Latitude</th>\n",
       "      <th>Light_Conditions</th>\n",
       "      <th>...</th>\n",
       "      <th>Number_of_Casualties</th>\n",
       "      <th>Number_of_Vehicles</th>\n",
       "      <th>Police_Force</th>\n",
       "      <th>Road_Surface_Conditions</th>\n",
       "      <th>Road_Type</th>\n",
       "      <th>Speed_limit</th>\n",
       "      <th>Time</th>\n",
       "      <th>Urban_or_Rural_Area</th>\n",
       "      <th>Weather_Conditions</th>\n",
       "      <th>Vehicle_Type</th>\n",
       "    </tr>\n",
       "  </thead>\n",
       "  <tbody>\n",
       "    <tr>\n",
       "      <th>0</th>\n",
       "      <td>200901BS70001</td>\n",
       "      <td>1/1/2021</td>\n",
       "      <td>Jan</td>\n",
       "      <td>Thursday</td>\n",
       "      <td>2021</td>\n",
       "      <td>Give way or uncontrolled</td>\n",
       "      <td>T or staggered junction</td>\n",
       "      <td>Serious</td>\n",
       "      <td>51.512273</td>\n",
       "      <td>Daylight</td>\n",
       "      <td>...</td>\n",
       "      <td>1</td>\n",
       "      <td>2</td>\n",
       "      <td>Metropolitan Police</td>\n",
       "      <td>Dry</td>\n",
       "      <td>One way street</td>\n",
       "      <td>30</td>\n",
       "      <td>15:11</td>\n",
       "      <td>Urban</td>\n",
       "      <td>Fine no high winds</td>\n",
       "      <td>Car</td>\n",
       "    </tr>\n",
       "    <tr>\n",
       "      <th>1</th>\n",
       "      <td>200901BS70002</td>\n",
       "      <td>1/5/2021</td>\n",
       "      <td>Jan</td>\n",
       "      <td>Monday</td>\n",
       "      <td>2021</td>\n",
       "      <td>Give way or uncontrolled</td>\n",
       "      <td>Crossroads</td>\n",
       "      <td>Serious</td>\n",
       "      <td>51.514399</td>\n",
       "      <td>Daylight</td>\n",
       "      <td>...</td>\n",
       "      <td>11</td>\n",
       "      <td>2</td>\n",
       "      <td>Metropolitan Police</td>\n",
       "      <td>Wet or damp</td>\n",
       "      <td>Single carriageway</td>\n",
       "      <td>30</td>\n",
       "      <td>10:59</td>\n",
       "      <td>Urban</td>\n",
       "      <td>Fine no high winds</td>\n",
       "      <td>Taxi/Private hire car</td>\n",
       "    </tr>\n",
       "    <tr>\n",
       "      <th>2</th>\n",
       "      <td>200901BS70003</td>\n",
       "      <td>1/4/2021</td>\n",
       "      <td>Jan</td>\n",
       "      <td>Sunday</td>\n",
       "      <td>2021</td>\n",
       "      <td>Give way or uncontrolled</td>\n",
       "      <td>T or staggered junction</td>\n",
       "      <td>Slight</td>\n",
       "      <td>51.486668</td>\n",
       "      <td>Daylight</td>\n",
       "      <td>...</td>\n",
       "      <td>1</td>\n",
       "      <td>2</td>\n",
       "      <td>Metropolitan Police</td>\n",
       "      <td>Dry</td>\n",
       "      <td>Single carriageway</td>\n",
       "      <td>30</td>\n",
       "      <td>14:19</td>\n",
       "      <td>Urban</td>\n",
       "      <td>Fine no high winds</td>\n",
       "      <td>Taxi/Private hire car</td>\n",
       "    </tr>\n",
       "    <tr>\n",
       "      <th>3</th>\n",
       "      <td>200901BS70004</td>\n",
       "      <td>1/5/2021</td>\n",
       "      <td>Jan</td>\n",
       "      <td>Monday</td>\n",
       "      <td>2021</td>\n",
       "      <td>Auto traffic signal</td>\n",
       "      <td>T or staggered junction</td>\n",
       "      <td>Serious</td>\n",
       "      <td>51.507804</td>\n",
       "      <td>Daylight</td>\n",
       "      <td>...</td>\n",
       "      <td>1</td>\n",
       "      <td>2</td>\n",
       "      <td>Metropolitan Police</td>\n",
       "      <td>Frost or ice</td>\n",
       "      <td>Single carriageway</td>\n",
       "      <td>30</td>\n",
       "      <td>8:10</td>\n",
       "      <td>Urban</td>\n",
       "      <td>Other</td>\n",
       "      <td>Motorcycle over 500cc</td>\n",
       "    </tr>\n",
       "    <tr>\n",
       "      <th>4</th>\n",
       "      <td>200901BS70005</td>\n",
       "      <td>1/6/2021</td>\n",
       "      <td>Jan</td>\n",
       "      <td>Tuesday</td>\n",
       "      <td>2021</td>\n",
       "      <td>Auto traffic signal</td>\n",
       "      <td>Crossroads</td>\n",
       "      <td>Serious</td>\n",
       "      <td>51.482076</td>\n",
       "      <td>Darkness - lights lit</td>\n",
       "      <td>...</td>\n",
       "      <td>1</td>\n",
       "      <td>2</td>\n",
       "      <td>Metropolitan Police</td>\n",
       "      <td>Dry</td>\n",
       "      <td>Single carriageway</td>\n",
       "      <td>30</td>\n",
       "      <td>17:25</td>\n",
       "      <td>Urban</td>\n",
       "      <td>Fine no high winds</td>\n",
       "      <td>Car</td>\n",
       "    </tr>\n",
       "  </tbody>\n",
       "</table>\n",
       "<p>5 rows × 23 columns</p>\n",
       "</div>"
      ],
      "text/plain": [
       "  Accident_Index Accident Date Month Day_of_Week  Year  \\\n",
       "0  200901BS70001      1/1/2021   Jan    Thursday  2021   \n",
       "1  200901BS70002      1/5/2021   Jan      Monday  2021   \n",
       "2  200901BS70003      1/4/2021   Jan      Sunday  2021   \n",
       "3  200901BS70004      1/5/2021   Jan      Monday  2021   \n",
       "4  200901BS70005      1/6/2021   Jan     Tuesday  2021   \n",
       "\n",
       "           Junction_Control          Junction_Detail Accident_Severity  \\\n",
       "0  Give way or uncontrolled  T or staggered junction           Serious   \n",
       "1  Give way or uncontrolled               Crossroads           Serious   \n",
       "2  Give way or uncontrolled  T or staggered junction            Slight   \n",
       "3       Auto traffic signal  T or staggered junction           Serious   \n",
       "4       Auto traffic signal               Crossroads           Serious   \n",
       "\n",
       "    Latitude       Light_Conditions  ... Number_of_Casualties  \\\n",
       "0  51.512273               Daylight  ...                    1   \n",
       "1  51.514399               Daylight  ...                   11   \n",
       "2  51.486668               Daylight  ...                    1   \n",
       "3  51.507804               Daylight  ...                    1   \n",
       "4  51.482076  Darkness - lights lit  ...                    1   \n",
       "\n",
       "  Number_of_Vehicles         Police_Force  Road_Surface_Conditions  \\\n",
       "0                  2  Metropolitan Police                      Dry   \n",
       "1                  2  Metropolitan Police              Wet or damp   \n",
       "2                  2  Metropolitan Police                      Dry   \n",
       "3                  2  Metropolitan Police             Frost or ice   \n",
       "4                  2  Metropolitan Police                      Dry   \n",
       "\n",
       "            Road_Type Speed_limit   Time Urban_or_Rural_Area  \\\n",
       "0      One way street          30  15:11               Urban   \n",
       "1  Single carriageway          30  10:59               Urban   \n",
       "2  Single carriageway          30  14:19               Urban   \n",
       "3  Single carriageway          30   8:10               Urban   \n",
       "4  Single carriageway          30  17:25               Urban   \n",
       "\n",
       "   Weather_Conditions           Vehicle_Type  \n",
       "0  Fine no high winds                    Car  \n",
       "1  Fine no high winds  Taxi/Private hire car  \n",
       "2  Fine no high winds  Taxi/Private hire car  \n",
       "3               Other  Motorcycle over 500cc  \n",
       "4  Fine no high winds                    Car  \n",
       "\n",
       "[5 rows x 23 columns]"
      ]
     },
     "execution_count": 2,
     "metadata": {},
     "output_type": "execute_result"
    }
   ],
   "source": [
    "df = pd.read_csv(r'Road Accident Data.csv')\n",
    "df.head()"
   ]
  },
  {
   "cell_type": "code",
   "execution_count": 3,
   "id": "86b20ece",
   "metadata": {},
   "outputs": [
    {
     "data": {
      "application/vnd.microsoft.datawrangler.viewer.v0+json": {
       "columns": [
        {
         "name": "index",
         "rawType": "int64",
         "type": "integer"
        },
        {
         "name": "Accident_Index",
         "rawType": "object",
         "type": "string"
        },
        {
         "name": "Accident Date",
         "rawType": "object",
         "type": "string"
        },
        {
         "name": "Month",
         "rawType": "object",
         "type": "string"
        },
        {
         "name": "Day_of_Week",
         "rawType": "object",
         "type": "string"
        },
        {
         "name": "Year",
         "rawType": "int64",
         "type": "integer"
        },
        {
         "name": "Junction_Control",
         "rawType": "object",
         "type": "string"
        },
        {
         "name": "Junction_Detail",
         "rawType": "object",
         "type": "string"
        },
        {
         "name": "Accident_Severity",
         "rawType": "object",
         "type": "string"
        },
        {
         "name": "Latitude",
         "rawType": "float64",
         "type": "float"
        },
        {
         "name": "Light_Conditions",
         "rawType": "object",
         "type": "string"
        },
        {
         "name": "Local_Authority_(District)",
         "rawType": "object",
         "type": "string"
        },
        {
         "name": "Carriageway_Hazards",
         "rawType": "object",
         "type": "unknown"
        },
        {
         "name": "Longitude",
         "rawType": "float64",
         "type": "float"
        },
        {
         "name": "Number_of_Casualties",
         "rawType": "int64",
         "type": "integer"
        },
        {
         "name": "Number_of_Vehicles",
         "rawType": "int64",
         "type": "integer"
        },
        {
         "name": "Police_Force",
         "rawType": "object",
         "type": "string"
        },
        {
         "name": "Road_Surface_Conditions",
         "rawType": "object",
         "type": "string"
        },
        {
         "name": "Road_Type",
         "rawType": "object",
         "type": "string"
        },
        {
         "name": "Speed_limit",
         "rawType": "int64",
         "type": "integer"
        },
        {
         "name": "Time",
         "rawType": "object",
         "type": "string"
        },
        {
         "name": "Urban_or_Rural_Area",
         "rawType": "object",
         "type": "string"
        },
        {
         "name": "Weather_Conditions",
         "rawType": "object",
         "type": "string"
        },
        {
         "name": "Vehicle_Type",
         "rawType": "object",
         "type": "string"
        }
       ],
       "conversionMethod": "pd.DataFrame",
       "ref": "5a9d444a-2b7a-4ec6-8f38-8e9111a1a784",
       "rows": [
        [
         "307968",
         "201091NM01760",
         "2/18/2022",
         "Feb",
         "Thursday",
         "2022",
         "Data missing or out of range",
         "Not at junction or within 20 metres",
         "Slight",
         "57.374005",
         "Daylight",
         "Highland",
         null,
         "-3.467828",
         "2",
         "1",
         "Northern",
         "Dry",
         "Single carriageway",
         "60",
         "7:00",
         "Rural",
         "Fine no high winds",
         "Car"
        ],
        [
         "307969",
         "201091NM01881",
         "2/21/2022",
         "Feb",
         "Sunday",
         "2022",
         "Data missing or out of range",
         "Not at junction or within 20 metres",
         "Slight",
         "57.232273",
         "Darkness - no lighting",
         "Highland",
         null,
         "-3.809281",
         "1",
         "1",
         "Northern",
         "Frost or ice",
         "Single carriageway",
         "60",
         "3:00",
         "Rural",
         "Fine no high winds",
         "Car"
        ],
        [
         "307970",
         "201091NM01935",
         "2/23/2022",
         "Feb",
         "Tuesday",
         "2022",
         "Give way or uncontrolled",
         "T or staggered junction",
         "Slight",
         "57.585044",
         "Daylight",
         "Highland",
         null,
         "-3.862727",
         "1",
         "3",
         "Northern",
         "Frost or ice",
         "Single carriageway",
         "30",
         "9:38",
         "Rural",
         "Fine no high winds",
         "Car"
        ],
        [
         "307971",
         "201091NM01964",
         "2/23/2022",
         "Feb",
         "Tuesday",
         "2022",
         "Give way or uncontrolled",
         "T or staggered junction",
         "Serious",
         "57.214898",
         "Darkness - no lighting",
         "Highland",
         null,
         "-3.823997",
         "1",
         "2",
         "Northern",
         "Wet or damp",
         "Single carriageway",
         "60",
         "18:25",
         "Rural",
         "Fine no high winds",
         "Motorcycle over 500cc"
        ],
        [
         "307972",
         "201091NM02142",
         "2/28/2022",
         "Feb",
         "Sunday",
         "2022",
         "Give way or uncontrolled",
         "T or staggered junction",
         "Serious",
         "57.57521",
         "Daylight",
         "Highland",
         "Other object on road",
         "-3.895673",
         "1",
         "1",
         "Northern",
         "Wet or damp",
         "Dual carriageway",
         "60",
         "15:45",
         "Rural",
         "Snowing no high winds",
         "Car"
        ]
       ],
       "shape": {
        "columns": 23,
        "rows": 5
       }
      },
      "text/html": [
       "<div>\n",
       "<style scoped>\n",
       "    .dataframe tbody tr th:only-of-type {\n",
       "        vertical-align: middle;\n",
       "    }\n",
       "\n",
       "    .dataframe tbody tr th {\n",
       "        vertical-align: top;\n",
       "    }\n",
       "\n",
       "    .dataframe thead th {\n",
       "        text-align: right;\n",
       "    }\n",
       "</style>\n",
       "<table border=\"1\" class=\"dataframe\">\n",
       "  <thead>\n",
       "    <tr style=\"text-align: right;\">\n",
       "      <th></th>\n",
       "      <th>Accident_Index</th>\n",
       "      <th>Accident Date</th>\n",
       "      <th>Month</th>\n",
       "      <th>Day_of_Week</th>\n",
       "      <th>Year</th>\n",
       "      <th>Junction_Control</th>\n",
       "      <th>Junction_Detail</th>\n",
       "      <th>Accident_Severity</th>\n",
       "      <th>Latitude</th>\n",
       "      <th>Light_Conditions</th>\n",
       "      <th>...</th>\n",
       "      <th>Number_of_Casualties</th>\n",
       "      <th>Number_of_Vehicles</th>\n",
       "      <th>Police_Force</th>\n",
       "      <th>Road_Surface_Conditions</th>\n",
       "      <th>Road_Type</th>\n",
       "      <th>Speed_limit</th>\n",
       "      <th>Time</th>\n",
       "      <th>Urban_or_Rural_Area</th>\n",
       "      <th>Weather_Conditions</th>\n",
       "      <th>Vehicle_Type</th>\n",
       "    </tr>\n",
       "  </thead>\n",
       "  <tbody>\n",
       "    <tr>\n",
       "      <th>307968</th>\n",
       "      <td>201091NM01760</td>\n",
       "      <td>2/18/2022</td>\n",
       "      <td>Feb</td>\n",
       "      <td>Thursday</td>\n",
       "      <td>2022</td>\n",
       "      <td>Data missing or out of range</td>\n",
       "      <td>Not at junction or within 20 metres</td>\n",
       "      <td>Slight</td>\n",
       "      <td>57.374005</td>\n",
       "      <td>Daylight</td>\n",
       "      <td>...</td>\n",
       "      <td>2</td>\n",
       "      <td>1</td>\n",
       "      <td>Northern</td>\n",
       "      <td>Dry</td>\n",
       "      <td>Single carriageway</td>\n",
       "      <td>60</td>\n",
       "      <td>7:00</td>\n",
       "      <td>Rural</td>\n",
       "      <td>Fine no high winds</td>\n",
       "      <td>Car</td>\n",
       "    </tr>\n",
       "    <tr>\n",
       "      <th>307969</th>\n",
       "      <td>201091NM01881</td>\n",
       "      <td>2/21/2022</td>\n",
       "      <td>Feb</td>\n",
       "      <td>Sunday</td>\n",
       "      <td>2022</td>\n",
       "      <td>Data missing or out of range</td>\n",
       "      <td>Not at junction or within 20 metres</td>\n",
       "      <td>Slight</td>\n",
       "      <td>57.232273</td>\n",
       "      <td>Darkness - no lighting</td>\n",
       "      <td>...</td>\n",
       "      <td>1</td>\n",
       "      <td>1</td>\n",
       "      <td>Northern</td>\n",
       "      <td>Frost or ice</td>\n",
       "      <td>Single carriageway</td>\n",
       "      <td>60</td>\n",
       "      <td>3:00</td>\n",
       "      <td>Rural</td>\n",
       "      <td>Fine no high winds</td>\n",
       "      <td>Car</td>\n",
       "    </tr>\n",
       "    <tr>\n",
       "      <th>307970</th>\n",
       "      <td>201091NM01935</td>\n",
       "      <td>2/23/2022</td>\n",
       "      <td>Feb</td>\n",
       "      <td>Tuesday</td>\n",
       "      <td>2022</td>\n",
       "      <td>Give way or uncontrolled</td>\n",
       "      <td>T or staggered junction</td>\n",
       "      <td>Slight</td>\n",
       "      <td>57.585044</td>\n",
       "      <td>Daylight</td>\n",
       "      <td>...</td>\n",
       "      <td>1</td>\n",
       "      <td>3</td>\n",
       "      <td>Northern</td>\n",
       "      <td>Frost or ice</td>\n",
       "      <td>Single carriageway</td>\n",
       "      <td>30</td>\n",
       "      <td>9:38</td>\n",
       "      <td>Rural</td>\n",
       "      <td>Fine no high winds</td>\n",
       "      <td>Car</td>\n",
       "    </tr>\n",
       "    <tr>\n",
       "      <th>307971</th>\n",
       "      <td>201091NM01964</td>\n",
       "      <td>2/23/2022</td>\n",
       "      <td>Feb</td>\n",
       "      <td>Tuesday</td>\n",
       "      <td>2022</td>\n",
       "      <td>Give way or uncontrolled</td>\n",
       "      <td>T or staggered junction</td>\n",
       "      <td>Serious</td>\n",
       "      <td>57.214898</td>\n",
       "      <td>Darkness - no lighting</td>\n",
       "      <td>...</td>\n",
       "      <td>1</td>\n",
       "      <td>2</td>\n",
       "      <td>Northern</td>\n",
       "      <td>Wet or damp</td>\n",
       "      <td>Single carriageway</td>\n",
       "      <td>60</td>\n",
       "      <td>18:25</td>\n",
       "      <td>Rural</td>\n",
       "      <td>Fine no high winds</td>\n",
       "      <td>Motorcycle over 500cc</td>\n",
       "    </tr>\n",
       "    <tr>\n",
       "      <th>307972</th>\n",
       "      <td>201091NM02142</td>\n",
       "      <td>2/28/2022</td>\n",
       "      <td>Feb</td>\n",
       "      <td>Sunday</td>\n",
       "      <td>2022</td>\n",
       "      <td>Give way or uncontrolled</td>\n",
       "      <td>T or staggered junction</td>\n",
       "      <td>Serious</td>\n",
       "      <td>57.575210</td>\n",
       "      <td>Daylight</td>\n",
       "      <td>...</td>\n",
       "      <td>1</td>\n",
       "      <td>1</td>\n",
       "      <td>Northern</td>\n",
       "      <td>Wet or damp</td>\n",
       "      <td>Dual carriageway</td>\n",
       "      <td>60</td>\n",
       "      <td>15:45</td>\n",
       "      <td>Rural</td>\n",
       "      <td>Snowing no high winds</td>\n",
       "      <td>Car</td>\n",
       "    </tr>\n",
       "  </tbody>\n",
       "</table>\n",
       "<p>5 rows × 23 columns</p>\n",
       "</div>"
      ],
      "text/plain": [
       "       Accident_Index Accident Date Month Day_of_Week  Year  \\\n",
       "307968  201091NM01760     2/18/2022   Feb    Thursday  2022   \n",
       "307969  201091NM01881     2/21/2022   Feb      Sunday  2022   \n",
       "307970  201091NM01935     2/23/2022   Feb     Tuesday  2022   \n",
       "307971  201091NM01964     2/23/2022   Feb     Tuesday  2022   \n",
       "307972  201091NM02142     2/28/2022   Feb      Sunday  2022   \n",
       "\n",
       "                    Junction_Control                      Junction_Detail  \\\n",
       "307968  Data missing or out of range  Not at junction or within 20 metres   \n",
       "307969  Data missing or out of range  Not at junction or within 20 metres   \n",
       "307970      Give way or uncontrolled              T or staggered junction   \n",
       "307971      Give way or uncontrolled              T or staggered junction   \n",
       "307972      Give way or uncontrolled              T or staggered junction   \n",
       "\n",
       "       Accident_Severity   Latitude        Light_Conditions  ...  \\\n",
       "307968            Slight  57.374005                Daylight  ...   \n",
       "307969            Slight  57.232273  Darkness - no lighting  ...   \n",
       "307970            Slight  57.585044                Daylight  ...   \n",
       "307971           Serious  57.214898  Darkness - no lighting  ...   \n",
       "307972           Serious  57.575210                Daylight  ...   \n",
       "\n",
       "       Number_of_Casualties Number_of_Vehicles  Police_Force  \\\n",
       "307968                    2                  1      Northern   \n",
       "307969                    1                  1      Northern   \n",
       "307970                    1                  3      Northern   \n",
       "307971                    1                  2      Northern   \n",
       "307972                    1                  1      Northern   \n",
       "\n",
       "        Road_Surface_Conditions           Road_Type Speed_limit   Time  \\\n",
       "307968                      Dry  Single carriageway          60   7:00   \n",
       "307969             Frost or ice  Single carriageway          60   3:00   \n",
       "307970             Frost or ice  Single carriageway          30   9:38   \n",
       "307971              Wet or damp  Single carriageway          60  18:25   \n",
       "307972              Wet or damp    Dual carriageway          60  15:45   \n",
       "\n",
       "       Urban_or_Rural_Area     Weather_Conditions           Vehicle_Type  \n",
       "307968               Rural     Fine no high winds                    Car  \n",
       "307969               Rural     Fine no high winds                    Car  \n",
       "307970               Rural     Fine no high winds                    Car  \n",
       "307971               Rural     Fine no high winds  Motorcycle over 500cc  \n",
       "307972               Rural  Snowing no high winds                    Car  \n",
       "\n",
       "[5 rows x 23 columns]"
      ]
     },
     "execution_count": 3,
     "metadata": {},
     "output_type": "execute_result"
    }
   ],
   "source": [
    "df.tail()"
   ]
  },
  {
   "cell_type": "code",
   "execution_count": 4,
   "id": "39f4b026",
   "metadata": {},
   "outputs": [
    {
     "name": "stdout",
     "output_type": "stream",
     "text": [
      "<class 'pandas.core.frame.DataFrame'>\n",
      "RangeIndex: 307973 entries, 0 to 307972\n",
      "Data columns (total 23 columns):\n",
      " #   Column                      Non-Null Count   Dtype  \n",
      "---  ------                      --------------   -----  \n",
      " 0   Accident_Index              307973 non-null  object \n",
      " 1   Accident Date               307973 non-null  object \n",
      " 2   Month                       307973 non-null  object \n",
      " 3   Day_of_Week                 307973 non-null  object \n",
      " 4   Year                        307973 non-null  int64  \n",
      " 5   Junction_Control            307973 non-null  object \n",
      " 6   Junction_Detail             307973 non-null  object \n",
      " 7   Accident_Severity           307973 non-null  object \n",
      " 8   Latitude                    307973 non-null  float64\n",
      " 9   Light_Conditions            307973 non-null  object \n",
      " 10  Local_Authority_(District)  307973 non-null  object \n",
      " 11  Carriageway_Hazards         5424 non-null    object \n",
      " 12  Longitude                   307973 non-null  float64\n",
      " 13  Number_of_Casualties        307973 non-null  int64  \n",
      " 14  Number_of_Vehicles          307973 non-null  int64  \n",
      " 15  Police_Force                307973 non-null  object \n",
      " 16  Road_Surface_Conditions     307656 non-null  object \n",
      " 17  Road_Type                   306439 non-null  object \n",
      " 18  Speed_limit                 307973 non-null  int64  \n",
      " 19  Time                        307956 non-null  object \n",
      " 20  Urban_or_Rural_Area         307973 non-null  object \n",
      " 21  Weather_Conditions          301916 non-null  object \n",
      " 22  Vehicle_Type                307973 non-null  object \n",
      "dtypes: float64(2), int64(4), object(17)\n",
      "memory usage: 54.0+ MB\n"
     ]
    }
   ],
   "source": [
    "df.info()"
   ]
  },
  {
   "cell_type": "code",
   "execution_count": 5,
   "id": "3369b9ce",
   "metadata": {},
   "outputs": [
    {
     "data": {
      "application/vnd.microsoft.datawrangler.viewer.v0+json": {
       "columns": [
        {
         "name": "index",
         "rawType": "object",
         "type": "string"
        },
        {
         "name": "Year",
         "rawType": "float64",
         "type": "float"
        },
        {
         "name": "Latitude",
         "rawType": "float64",
         "type": "float"
        },
        {
         "name": "Longitude",
         "rawType": "float64",
         "type": "float"
        },
        {
         "name": "Number_of_Casualties",
         "rawType": "float64",
         "type": "float"
        },
        {
         "name": "Number_of_Vehicles",
         "rawType": "float64",
         "type": "float"
        },
        {
         "name": "Speed_limit",
         "rawType": "float64",
         "type": "float"
        }
       ],
       "conversionMethod": "pd.DataFrame",
       "ref": "22031462-3f1b-4487-9b80-57ef6043db57",
       "rows": [
        [
         "count",
         "307973.0",
         "307973.0",
         "307973.0",
         "307973.0",
         "307973.0",
         "307973.0"
        ],
        [
         "mean",
         "2021.4689339649904",
         "52.48700471916694",
         "-1.3688840968006937",
         "1.3568819344552931",
         "1.8290629373354157",
         "38.86603695778526"
        ],
        [
         "std",
         "0.49903477844452016",
         "1.3390107597976504",
         "1.3560916287130507",
         "0.8158569393614284",
         "0.7104766166622105",
         "14.03293319589297"
        ],
        [
         "min",
         "2021.0",
         "49.914488",
         "-7.516225",
         "1.0",
         "1.0",
         "10.0"
        ],
        [
         "25%",
         "2021.0",
         "51.485248",
         "-2.247937",
         "1.0",
         "1.0",
         "30.0"
        ],
        [
         "50%",
         "2021.0",
         "52.225943",
         "-1.349258",
         "1.0",
         "2.0",
         "30.0"
        ],
        [
         "75%",
         "2022.0",
         "53.415517",
         "-0.20681",
         "1.0",
         "2.0",
         "50.0"
        ],
        [
         "max",
         "2022.0",
         "60.598055",
         "1.759398",
         "48.0",
         "32.0",
         "70.0"
        ]
       ],
       "shape": {
        "columns": 6,
        "rows": 8
       }
      },
      "text/html": [
       "<div>\n",
       "<style scoped>\n",
       "    .dataframe tbody tr th:only-of-type {\n",
       "        vertical-align: middle;\n",
       "    }\n",
       "\n",
       "    .dataframe tbody tr th {\n",
       "        vertical-align: top;\n",
       "    }\n",
       "\n",
       "    .dataframe thead th {\n",
       "        text-align: right;\n",
       "    }\n",
       "</style>\n",
       "<table border=\"1\" class=\"dataframe\">\n",
       "  <thead>\n",
       "    <tr style=\"text-align: right;\">\n",
       "      <th></th>\n",
       "      <th>Year</th>\n",
       "      <th>Latitude</th>\n",
       "      <th>Longitude</th>\n",
       "      <th>Number_of_Casualties</th>\n",
       "      <th>Number_of_Vehicles</th>\n",
       "      <th>Speed_limit</th>\n",
       "    </tr>\n",
       "  </thead>\n",
       "  <tbody>\n",
       "    <tr>\n",
       "      <th>count</th>\n",
       "      <td>307973.000000</td>\n",
       "      <td>307973.000000</td>\n",
       "      <td>307973.000000</td>\n",
       "      <td>307973.000000</td>\n",
       "      <td>307973.000000</td>\n",
       "      <td>307973.000000</td>\n",
       "    </tr>\n",
       "    <tr>\n",
       "      <th>mean</th>\n",
       "      <td>2021.468934</td>\n",
       "      <td>52.487005</td>\n",
       "      <td>-1.368884</td>\n",
       "      <td>1.356882</td>\n",
       "      <td>1.829063</td>\n",
       "      <td>38.866037</td>\n",
       "    </tr>\n",
       "    <tr>\n",
       "      <th>std</th>\n",
       "      <td>0.499035</td>\n",
       "      <td>1.339011</td>\n",
       "      <td>1.356092</td>\n",
       "      <td>0.815857</td>\n",
       "      <td>0.710477</td>\n",
       "      <td>14.032933</td>\n",
       "    </tr>\n",
       "    <tr>\n",
       "      <th>min</th>\n",
       "      <td>2021.000000</td>\n",
       "      <td>49.914488</td>\n",
       "      <td>-7.516225</td>\n",
       "      <td>1.000000</td>\n",
       "      <td>1.000000</td>\n",
       "      <td>10.000000</td>\n",
       "    </tr>\n",
       "    <tr>\n",
       "      <th>25%</th>\n",
       "      <td>2021.000000</td>\n",
       "      <td>51.485248</td>\n",
       "      <td>-2.247937</td>\n",
       "      <td>1.000000</td>\n",
       "      <td>1.000000</td>\n",
       "      <td>30.000000</td>\n",
       "    </tr>\n",
       "    <tr>\n",
       "      <th>50%</th>\n",
       "      <td>2021.000000</td>\n",
       "      <td>52.225943</td>\n",
       "      <td>-1.349258</td>\n",
       "      <td>1.000000</td>\n",
       "      <td>2.000000</td>\n",
       "      <td>30.000000</td>\n",
       "    </tr>\n",
       "    <tr>\n",
       "      <th>75%</th>\n",
       "      <td>2022.000000</td>\n",
       "      <td>53.415517</td>\n",
       "      <td>-0.206810</td>\n",
       "      <td>1.000000</td>\n",
       "      <td>2.000000</td>\n",
       "      <td>50.000000</td>\n",
       "    </tr>\n",
       "    <tr>\n",
       "      <th>max</th>\n",
       "      <td>2022.000000</td>\n",
       "      <td>60.598055</td>\n",
       "      <td>1.759398</td>\n",
       "      <td>48.000000</td>\n",
       "      <td>32.000000</td>\n",
       "      <td>70.000000</td>\n",
       "    </tr>\n",
       "  </tbody>\n",
       "</table>\n",
       "</div>"
      ],
      "text/plain": [
       "                Year       Latitude      Longitude  Number_of_Casualties  \\\n",
       "count  307973.000000  307973.000000  307973.000000         307973.000000   \n",
       "mean     2021.468934      52.487005      -1.368884              1.356882   \n",
       "std         0.499035       1.339011       1.356092              0.815857   \n",
       "min      2021.000000      49.914488      -7.516225              1.000000   \n",
       "25%      2021.000000      51.485248      -2.247937              1.000000   \n",
       "50%      2021.000000      52.225943      -1.349258              1.000000   \n",
       "75%      2022.000000      53.415517      -0.206810              1.000000   \n",
       "max      2022.000000      60.598055       1.759398             48.000000   \n",
       "\n",
       "       Number_of_Vehicles    Speed_limit  \n",
       "count       307973.000000  307973.000000  \n",
       "mean             1.829063      38.866037  \n",
       "std              0.710477      14.032933  \n",
       "min              1.000000      10.000000  \n",
       "25%              1.000000      30.000000  \n",
       "50%              2.000000      30.000000  \n",
       "75%              2.000000      50.000000  \n",
       "max             32.000000      70.000000  "
      ]
     },
     "execution_count": 5,
     "metadata": {},
     "output_type": "execute_result"
    }
   ],
   "source": [
    "df.describe()"
   ]
  },
  {
   "cell_type": "code",
   "execution_count": 6,
   "id": "678e9389",
   "metadata": {},
   "outputs": [
    {
     "data": {
      "text/plain": [
       "Index(['Accident_Index', 'Accident Date', 'Month', 'Day_of_Week', 'Year',\n",
       "       'Junction_Control', 'Junction_Detail', 'Accident_Severity', 'Latitude',\n",
       "       'Light_Conditions', 'Local_Authority_(District)', 'Carriageway_Hazards',\n",
       "       'Longitude', 'Number_of_Casualties', 'Number_of_Vehicles',\n",
       "       'Police_Force', 'Road_Surface_Conditions', 'Road_Type', 'Speed_limit',\n",
       "       'Time', 'Urban_or_Rural_Area', 'Weather_Conditions', 'Vehicle_Type'],\n",
       "      dtype='object')"
      ]
     },
     "execution_count": 6,
     "metadata": {},
     "output_type": "execute_result"
    }
   ],
   "source": [
    "df.columns"
   ]
  },
  {
   "cell_type": "code",
   "execution_count": 7,
   "id": "c094ff1b",
   "metadata": {},
   "outputs": [
    {
     "data": {
      "text/plain": [
       "(307973, 23)"
      ]
     },
     "execution_count": 7,
     "metadata": {},
     "output_type": "execute_result"
    }
   ],
   "source": [
    "df.shape"
   ]
  },
  {
   "cell_type": "markdown",
   "id": "ca035eca",
   "metadata": {},
   "source": [
    "# EDA (Data Cleaning)\n"
   ]
  },
  {
   "cell_type": "code",
   "execution_count": 8,
   "id": "7a4a933c",
   "metadata": {},
   "outputs": [
    {
     "name": "stdout",
     "output_type": "stream",
     "text": [
      "\n",
      "Cleaning data...\n"
     ]
    }
   ],
   "source": [
    "print(\"\\nCleaning data...\")\n",
    "columns_to_drop = ['Accident_Index', 'Carriageway_Hazards']\n",
    "df.drop(columns_to_drop, axis=1, inplace=True)"
   ]
  },
  {
   "cell_type": "code",
   "execution_count": 9,
   "id": "2637f5c4",
   "metadata": {},
   "outputs": [
    {
     "data": {
      "text/plain": [
       "5"
      ]
     },
     "execution_count": 9,
     "metadata": {},
     "output_type": "execute_result"
    }
   ],
   "source": [
    "df.duplicated().sum()"
   ]
  },
  {
   "cell_type": "code",
   "execution_count": 10,
   "id": "a60ed9bd",
   "metadata": {},
   "outputs": [],
   "source": [
    "df.drop_duplicates(inplace=True)"
   ]
  },
  {
   "cell_type": "code",
   "execution_count": 11,
   "id": "24f18dd9",
   "metadata": {},
   "outputs": [
    {
     "data": {
      "text/plain": [
       "Year                             0\n",
       "Weather_Conditions            6057\n",
       "Vehicle_Type                     0\n",
       "Urban_or_Rural_Area              0\n",
       "Time                            17\n",
       "Speed_limit                      0\n",
       "Road_Type                     1534\n",
       "Road_Surface_Conditions        317\n",
       "Police_Force                     0\n",
       "Number_of_Vehicles               0\n",
       "Number_of_Casualties             0\n",
       "Month                            0\n",
       "Longitude                        0\n",
       "Local_Authority_(District)       0\n",
       "Light_Conditions                 0\n",
       "Latitude                         0\n",
       "Junction_Detail                  0\n",
       "Junction_Control                 0\n",
       "Day_of_Week                      0\n",
       "Accident_Severity                0\n",
       "Accident Date                    0\n",
       "dtype: int64"
      ]
     },
     "execution_count": 11,
     "metadata": {},
     "output_type": "execute_result"
    }
   ],
   "source": [
    "df.isnull().sum().sort_index(ascending=False)"
   ]
  },
  {
   "cell_type": "markdown",
   "id": "282eec1a",
   "metadata": {},
   "source": [
    "# Replacing missing values with most frequent data"
   ]
  },
  {
   "cell_type": "code",
   "execution_count": 12,
   "id": "863e644f",
   "metadata": {},
   "outputs": [],
   "source": [
    "from sklearn.impute import SimpleImputer\n",
    "imputer=SimpleImputer(missing_values=np.nan,strategy='most_frequent')\n",
    "df['Road_Surface_Conditions'] = imputer.fit_transform(df[['Road_Surface_Conditions']]).ravel()\n",
    "df['Weather_Conditions'] = imputer.fit_transform(df[['Weather_Conditions']]).ravel()\n",
    "df['Time'] = imputer.fit_transform(df[['Time']]).ravel()\n",
    "df['Road_Type'] = imputer.fit_transform(df[['Road_Type']]).ravel()\n"
   ]
  },
  {
   "cell_type": "code",
   "execution_count": 13,
   "id": "b7c07187",
   "metadata": {},
   "outputs": [
    {
     "data": {
      "text/plain": [
       "Year                          0\n",
       "Weather_Conditions            0\n",
       "Vehicle_Type                  0\n",
       "Urban_or_Rural_Area           0\n",
       "Time                          0\n",
       "Speed_limit                   0\n",
       "Road_Type                     0\n",
       "Road_Surface_Conditions       0\n",
       "Police_Force                  0\n",
       "Number_of_Vehicles            0\n",
       "Number_of_Casualties          0\n",
       "Month                         0\n",
       "Longitude                     0\n",
       "Local_Authority_(District)    0\n",
       "Light_Conditions              0\n",
       "Latitude                      0\n",
       "Junction_Detail               0\n",
       "Junction_Control              0\n",
       "Day_of_Week                   0\n",
       "Accident_Severity             0\n",
       "Accident Date                 0\n",
       "dtype: int64"
      ]
     },
     "execution_count": 13,
     "metadata": {},
     "output_type": "execute_result"
    }
   ],
   "source": [
    "df.isnull().sum().sort_index(ascending=False)"
   ]
  },
  {
   "cell_type": "code",
   "execution_count": 14,
   "id": "e8eba53d",
   "metadata": {},
   "outputs": [
    {
     "data": {
      "text/plain": [
       "Index(['Accident Date', 'Month', 'Day_of_Week', 'Year', 'Junction_Control',\n",
       "       'Junction_Detail', 'Accident_Severity', 'Latitude', 'Light_Conditions',\n",
       "       'Local_Authority_(District)', 'Longitude', 'Number_of_Casualties',\n",
       "       'Number_of_Vehicles', 'Police_Force', 'Road_Surface_Conditions',\n",
       "       'Road_Type', 'Speed_limit', 'Time', 'Urban_or_Rural_Area',\n",
       "       'Weather_Conditions', 'Vehicle_Type'],\n",
       "      dtype='object')"
      ]
     },
     "execution_count": 14,
     "metadata": {},
     "output_type": "execute_result"
    }
   ],
   "source": [
    "df.columns"
   ]
  },
  {
   "cell_type": "code",
   "execution_count": 15,
   "id": "c63d7c14",
   "metadata": {},
   "outputs": [
    {
     "data": {
      "image/png": "[encoded data removed]",
      "text/plain": [
       "<Figure size 1000x600 with 1 Axes>"
      ]
     },
     "metadata": {},
     "output_type": "display_data"
    }
   ],
   "source": [
    "plt.figure(figsize=(10,6))\n",
    "sns.countplot(data=df, x='Month', order=df['Month'].value_counts().index)\n",
    "plt.title('Number of Accidents per Month')\n",
    "plt.xlabel('Month')\n",
    "plt.ylabel('Accident Count')\n",
    "plt.xticks(rotation=45)\n",
    "plt.tight_layout()\n",
    "plt.show()\n"
   ]
  },
  {
   "cell_type": "code",
   "execution_count": 16,
   "id": "191f52bb",
   "metadata": {},
   "outputs": [
    {
     "data": {
      "image/png": "[encoded data removed]",
      "text/plain": [
       "<Figure size 1000x600 with 1 Axes>"
      ]
     },
     "metadata": {},
     "output_type": "display_data"
    }
   ],
   "source": [
    "plt.figure(figsize=(10,6))\n",
    "sns.countplot(data=df, x='Light_Conditions', hue='Accident_Severity')\n",
    "plt.title('Accident Severity by Light Conditions')\n",
    "plt.xlabel('Light Conditions')\n",
    "plt.ylabel('Accident Count')\n",
    "plt.xticks(rotation=45)\n",
    "plt.tight_layout()\n",
    "plt.show()\n"
   ]
  },
  {
   "cell_type": "code",
   "execution_count": 17,
   "id": "79a0f026",
   "metadata": {},
   "outputs": [
    {
     "data": {
      "image/png": "[encoded data removed]",
      "text/plain": [
       "<Figure size 1200x600 with 1 Axes>"
      ]
     },
     "metadata": {},
     "output_type": "display_data"
    }
   ],
   "source": [
    "plt.figure(figsize=(12,6))\n",
    "top_vehicles = df['Vehicle_Type'].value_counts().iloc[:10].index\n",
    "sns.countplot(data=df, x='Vehicle_Type', order=top_vehicles)\n",
    "plt.title('Top 10 Vehicle Types Involved in Accidents')\n",
    "plt.xlabel('Vehicle Type')\n",
    "plt.ylabel('Accident Count')\n",
    "plt.xticks(rotation=45)\n",
    "plt.tight_layout()\n",
    "plt.show()\n"
   ]
  },
  {
   "cell_type": "code",
   "execution_count": 18,
   "id": "4280cc90",
   "metadata": {},
   "outputs": [
    {
     "data": {
      "image/png": "[encoded data removed]",
      "text/plain": [
       "<Figure size 1000x800 with 2 Axes>"
      ]
     },
     "metadata": {},
     "output_type": "display_data"
    }
   ],
   "source": [
    "\n",
    "numeric_cols = df.select_dtypes(include=['int64', 'float64'])\n",
    "corr_matrix = numeric_cols.corr()\n",
    "plt.figure(figsize=(10,8))\n",
    "sns.heatmap(corr_matrix, annot=True, cmap='coolwarm', fmt=\".2f\", linewidths=0.5)\n",
    "plt.title('Correlation Heatmap of Numerical Features')\n",
    "plt.tight_layout()\n",
    "plt.show()\n"
   ]
  },
  {
   "cell_type": "code",
   "execution_count": 19,
   "id": "06d0257e",
   "metadata": {},
   "outputs": [
    {
     "data": {
      "image/png": "[encoded data removed]",
      "text/plain": [
       "<Figure size 1000x600 with 1 Axes>"
      ]
     },
     "metadata": {},
     "output_type": "display_data"
    }
   ],
   "source": [
    "plt.figure(figsize=(10,6))\n",
    "sns.boxplot(data=df, x='Accident_Severity', y='Speed_limit')\n",
    "plt.title('Speed Limit Distribution by Accident Severity')\n",
    "plt.xlabel('Accident Severity')\n",
    "plt.ylabel('Speed Limit')\n",
    "plt.tight_layout()\n",
    "plt.show()\n"
   ]
  },
  {
   "cell_type": "code",
   "execution_count": 20,
   "id": "a3ed739e",
   "metadata": {},
   "outputs": [
    {
     "data": {
      "image/png": "[encoded data removed]",
      "text/plain": [
       "<Figure size 800x800 with 1 Axes>"
      ]
     },
     "metadata": {},
     "output_type": "display_data"
    }
   ],
   "source": [
    "road_surface_counts = df['Road_Surface_Conditions'].value_counts()\n",
    "plt.figure(figsize=(8,8))\n",
    "plt.pie(road_surface_counts, labels=road_surface_counts.index, autopct='%1.1f%%', startangle=140)\n",
    "plt.title('Distribution of Road Surface Conditions')\n",
    "plt.tight_layout()\n",
    "plt.show()\n"
   ]
  },
  {
   "cell_type": "markdown",
   "id": "f9988fd5",
   "metadata": {},
   "source": [
    "# Feature engineering\n"
   ]
  },
  {
   "cell_type": "code",
   "execution_count": 21,
   "id": "0dc5c471",
   "metadata": {},
   "outputs": [
    {
     "name": "stdout",
     "output_type": "stream",
     "text": [
      "\n",
      "Creating new features...\n"
     ]
    },
    {
     "name": "stderr",
     "output_type": "stream",
     "text": [
      "C:\\Users\\OO7\\AppData\\Local\\Temp\\ipykernel_35312\\3305341213.py:2: UserWarning: Could not infer format, so each element will be parsed individually, falling back to `dateutil`. To ensure parsing is consistent and as-expected, please specify a format.\n",
      "  df['Hour'] = pd.to_datetime(df['Time']).dt.hour\n"
     ]
    }
   ],
   "source": [
    "print(\"\\nCreating new features...\")\n",
    "df['Hour'] = pd.to_datetime(df['Time']).dt.hour\n",
    "df['Is_Night'] = df['Hour'].apply(lambda x: 1 if x < 6 or x > 18 else 0)\n",
    "df['Bad_Weather'] = df['Weather_Conditions'].apply(lambda x: 1 if x in ['Rain', 'Snow', 'Fog'] else 0)"
   ]
  },
  {
   "cell_type": "code",
   "execution_count": 22,
   "id": "940666f0",
   "metadata": {},
   "outputs": [
    {
     "name": "stdout",
     "output_type": "stream",
     "text": [
      "Columns in DataFrame: ['Accident Date', 'Month', 'Day_of_Week', 'Year', 'Junction_Control', 'Junction_Detail', 'Accident_Severity', 'Latitude', 'Light_Conditions', 'Local_Authority_(District)', 'Longitude', 'Number_of_Casualties', 'Number_of_Vehicles', 'Police_Force', 'Road_Surface_Conditions', 'Road_Type', 'Speed_limit', 'Time', 'Urban_or_Rural_Area', 'Weather_Conditions', 'Vehicle_Type', 'Hour', 'Is_Night', 'Bad_Weather']\n"
     ]
    }
   ],
   "source": [
    "print(\"Columns in DataFrame:\", df.columns.tolist())"
   ]
  },
  {
   "cell_type": "code",
   "execution_count": 23,
   "id": "ee9f0e38",
   "metadata": {},
   "outputs": [
    {
     "name": "stdout",
     "output_type": "stream",
     "text": [
      "\n",
      "Processing dates...\n"
     ]
    }
   ],
   "source": [
    "# Convert accident date to datetime\n",
    "print(\"\\nProcessing dates...\")\n",
    "df['Accident Date'] = pd.to_datetime(df['Accident Date'])"
   ]
  },
  {
   "cell_type": "code",
   "execution_count": 24,
   "id": "6fb36dcf",
   "metadata": {},
   "outputs": [
    {
     "name": "stdout",
     "output_type": "stream",
     "text": [
      "\n",
      "Performing time series analysis...\n"
     ]
    },
    {
     "name": "stderr",
     "output_type": "stream",
     "text": [
      "C:\\Users\\OO7\\AppData\\Local\\Temp\\ipykernel_35312\\1694662461.py:3: FutureWarning: 'M' is deprecated and will be removed in a future version, please use 'ME' instead.\n",
      "  monthly_accidents = df.resample('M', on='Accident Date').size()\n",
      "C:\\Users\\OO7\\AppData\\Local\\Temp\\ipykernel_35312\\1694662461.py:4: FutureWarning: 'M' is deprecated and will be removed in a future version, please use 'ME' instead.\n",
      "  severity_trends = df.groupby([pd.Grouper(key='Accident Date', freq='M'), 'Accident_Severity']).size().unstack()\n"
     ]
    }
   ],
   "source": [
    "# Time Series Analysis\n",
    "print(\"\\nPerforming time series analysis...\")\n",
    "monthly_accidents = df.resample('M', on='Accident Date').size()\n",
    "severity_trends = df.groupby([pd.Grouper(key='Accident Date', freq='M'), 'Accident_Severity']).size().unstack()"
   ]
  },
  {
   "cell_type": "code",
   "execution_count": 25,
   "id": "d4e988c9",
   "metadata": {},
   "outputs": [
    {
     "name": "stdout",
     "output_type": "stream",
     "text": [
      "\n",
      "Building ARIMA model...\n"
     ]
    },
    {
     "ename": "NameError",
     "evalue": "name 'ARIMA' is not defined",
     "output_type": "error",
     "traceback": [
      "\u001b[1;31m---------------------------------------------------------------------------\u001b[0m",
      "\u001b[1;31mNameError\u001b[0m                                 Traceback (most recent call last)",
      "Cell \u001b[1;32mIn[25], line 3\u001b[0m\n\u001b[0;32m      1\u001b[0m \u001b[38;5;66;03m# ARIMA Modeling for accident prediction\u001b[39;00m\n\u001b[0;32m      2\u001b[0m \u001b[38;5;28mprint\u001b[39m(\u001b[38;5;124m\"\u001b[39m\u001b[38;5;130;01m\\n\u001b[39;00m\u001b[38;5;124mBuilding ARIMA model...\u001b[39m\u001b[38;5;124m\"\u001b[39m)\n\u001b[1;32m----> 3\u001b[0m model \u001b[38;5;241m=\u001b[39m \u001b[43mARIMA\u001b[49m(monthly_accidents, order\u001b[38;5;241m=\u001b[39m(\u001b[38;5;241m5\u001b[39m,\u001b[38;5;241m1\u001b[39m,\u001b[38;5;241m0\u001b[39m), seasonal_order\u001b[38;5;241m=\u001b[39m(\u001b[38;5;241m1\u001b[39m,\u001b[38;5;241m1\u001b[39m,\u001b[38;5;241m1\u001b[39m,\u001b[38;5;241m12\u001b[39m))\n\u001b[0;32m      4\u001b[0m model_fit \u001b[38;5;241m=\u001b[39m model\u001b[38;5;241m.\u001b[39mfit()\n",
      "\u001b[1;31mNameError\u001b[0m: name 'ARIMA' is not defined"
     ]
    }
   ],
   "source": [
    "# ARIMA Modeling for accident prediction\n",
    "print(\"\\nBuilding ARIMA model...\")\n",
    "model = ARIMA(monthly_accidents, order=(5,1,0), seasonal_order=(1,1,1,12))\n",
    "model_fit = model.fit()"
   ]
  },
  {
   "cell_type": "code",
   "execution_count": null,
   "id": "b9bd3b83",
   "metadata": {},
   "outputs": [],
   "source": [
    "# 5-month forecast\n",
    "forecast_steps = 5\n",
    "forecast = model_fit.get_forecast(steps=forecast_steps)\n",
    "forecast_index = pd.date_range(monthly_accidents.index[-1], periods=forecast_steps+1, freq='M')[1:]\n",
    "forecast_values = forecast.predicted_mean\n",
    "conf_int = forecast.conf_int()"
   ]
  },
  {
   "cell_type": "code",
   "execution_count": null,
   "id": "7199f08b",
   "metadata": {},
   "outputs": [],
   "source": [
    "# Severity level forecasting\n",
    "severity_forecasts = {}\n",
    "for severity in severity_trends.columns:\n",
    "    model_sev = ARIMA(severity_trends[severity].fillna(0), order=(3,1,1))\n",
    "    model_fit_sev = model_sev.fit()\n",
    "    severity_forecasts[severity] = model_fit_sev.get_forecast(steps=5).predicted_mean\n",
    "\n",
    "forecast_severity = pd.DataFrame(severity_forecasts, index=forecast_index)"
   ]
  },
  {
   "cell_type": "code",
   "execution_count": null,
   "id": "8183d038",
   "metadata": {},
   "outputs": [],
   "source": [
    "# Visualization\n",
    "print(\"\\nGenerating visualizations...\")\n",
    "plt.figure(figsize=(15, 10))\n",
    "plt.subplot(2, 1, 1)\n",
    "plt.plot(monthly_accidents.index, monthly_accidents, label='Historical Data')\n",
    "plt.plot(forecast_index, forecast_values, color='red', label='Forecast')\n",
    "plt.fill_between(forecast_index, conf_int.iloc[:,0], conf_int.iloc[:,1], color='pink', alpha=0.3)\n",
    "plt.title('5-Month Accident Forecast')\n",
    "plt.ylabel('Number of Accidents')\n",
    "plt.legend()\n",
    "plt.grid(True)\n",
    "\n",
    "plt.subplot(2, 1, 2)\n",
    "forecast_severity.plot(kind='area', stacked=True, ax=plt.gca())\n",
    "plt.title('Predicted Accident Severity Distribution')\n",
    "plt.ylabel('Number of Accidents')\n",
    "plt.xlabel('Date')\n",
    "plt.grid(True)\n",
    "\n",
    "plt.tight_layout()\n",
    "plt.show()\n"
   ]
  },
  {
   "cell_type": "code",
   "execution_count": null,
   "id": "a5c30fb6",
   "metadata": {},
   "outputs": [],
   "source": [
    "# Print forecast summary\n",
    "print(\"\\nForecast Summary:\")\n",
    "print(\"1. Total Accident Forecast:\")\n",
    "for i, (date, value) in enumerate(zip(forecast_index, forecast_values), 1):\n",
    "    print(f\"   Month {i}: {date.strftime('%Y-%m')} - {value:.0f} ±{((conf_int.iloc[i-1,1]-conf_int.iloc[i-1,0])/2):.0f} accidents\")\n",
    "\n",
    "print(\"\\n2. Severity Distribution Forecast:\")\n",
    "print(forecast_severity.round().astype(int))"
   ]
  },
  {
   "cell_type": "markdown",
   "id": "f07e1e8a",
   "metadata": {},
   "source": [
    "# Determining which column to encode"
   ]
  },
  {
   "cell_type": "code",
   "execution_count": null,
   "id": "7eb34617",
   "metadata": {},
   "outputs": [
    {
     "name": "stdout",
     "output_type": "stream",
     "text": [
      "<class 'pandas.core.frame.DataFrame'>\n",
      "Index: 307968 entries, 0 to 307972\n",
      "Data columns (total 20 columns):\n",
      " #   Column                      Non-Null Count   Dtype  \n",
      "---  ------                      --------------   -----  \n",
      " 0   Month                       307968 non-null  object \n",
      " 1   Day_of_Week                 307968 non-null  object \n",
      " 2   Year                        307968 non-null  int64  \n",
      " 3   Junction_Control            307968 non-null  object \n",
      " 4   Junction_Detail             307968 non-null  object \n",
      " 5   Accident_Severity           307968 non-null  object \n",
      " 6   Latitude                    307968 non-null  float64\n",
      " 7   Light_Conditions            307968 non-null  object \n",
      " 8   Local_Authority_(District)  307968 non-null  object \n",
      " 9   Longitude                   307968 non-null  float64\n",
      " 10  Number_of_Casualties        307968 non-null  int64  \n",
      " 11  Number_of_Vehicles          307968 non-null  int64  \n",
      " 12  Police_Force                307968 non-null  object \n",
      " 13  Road_Surface_Conditions     307968 non-null  object \n",
      " 14  Road_Type                   307968 non-null  object \n",
      " 15  Speed_limit                 307968 non-null  int64  \n",
      " 16  Time                        307968 non-null  object \n",
      " 17  Urban_or_Rural_Area         307968 non-null  object \n",
      " 18  Weather_Conditions          307968 non-null  object \n",
      " 19  Vehicle_Type                307968 non-null  object \n",
      "dtypes: float64(2), int64(4), object(14)\n",
      "memory usage: 49.3+ MB\n"
     ]
    }
   ],
   "source": [
    "df.info()"
   ]
  },
  {
   "cell_type": "code",
   "execution_count": null,
   "id": "a01744cd",
   "metadata": {},
   "outputs": [
    {
     "name": "stdout",
     "output_type": "stream",
     "text": [
      "Unique values in Month: ['Jan' 'Feb' 'Mar' 'Apr' 'May' 'Jun' 'Aug' 'Jul' 'Sep' 'Oct' 'Nov' 'Dec']\n",
      "number of unique values in Month: 12\n",
      "\n",
      "\n",
      "Unique values in Day_of_Week: ['Thursday' 'Monday' 'Sunday' 'Tuesday' 'Friday' 'Wednesday' 'Saturday']\n",
      "number of unique values in Day_of_Week: 7\n",
      "\n",
      "\n",
      "Unique values in Junction_Control: ['Give way or uncontrolled' 'Auto traffic signal'\n",
      " 'Data missing or out of range' 'Authorised person' 'Stop sign'\n",
      " 'Not at junction or within 20 metres']\n",
      "number of unique values in Junction_Control: 6\n",
      "\n",
      "\n",
      "Unique values in Junction_Detail: ['T or staggered junction' 'Crossroads'\n",
      " 'Not at junction or within 20 metres' 'Roundabout' 'Mini-roundabout'\n",
      " 'More than 4 arms (not roundabout)' 'Private drive or entrance'\n",
      " 'Slip road' 'Other junction']\n",
      "number of unique values in Junction_Detail: 9\n",
      "\n",
      "\n",
      "Unique values in Accident_Severity: ['Serious' 'Slight' 'Fatal']\n",
      "number of unique values in Accident_Severity: 3\n",
      "\n",
      "\n",
      "Unique values in Light_Conditions: ['Daylight' 'Darkness - lights lit' 'Darkness - lighting unknown'\n",
      " 'Darkness - lights unlit' 'Darkness - no lighting']\n",
      "number of unique values in Light_Conditions: 5\n",
      "\n",
      "\n",
      "Unique values in Local_Authority_(District): ['Kensington and Chelsea' 'Hammersmith and Fulham' 'Westminster'\n",
      " 'Hounslow' 'City of London' 'Tower Hamlets' 'Hackney' 'Camden'\n",
      " 'Southwark' 'Brent' 'Haringey' 'Islington' 'Barnet' 'Ealing' 'Newham'\n",
      " 'London Airport (Heathrow)' 'Hillingdon' 'Waltham Forest' 'Redbridge'\n",
      " 'Barking and Dagenham' 'Havering' 'Lambeth' 'Croydon' 'Wandsworth'\n",
      " 'Bromley' 'Lewisham' 'Greenwich' 'Bexley' 'Harrow' 'Enfield' 'Sutton'\n",
      " 'Merton' 'Kingston upon Thames' 'Richmond upon Thames' 'Eden' 'Copeland'\n",
      " 'South Lakeland' 'Barrow-in-Furness' 'Allerdale' 'Carlisle' 'Fylde'\n",
      " 'Blackpool' 'Wyre' 'Lancaster' 'Chorley' 'West Lancashire' 'South Ribble'\n",
      " 'Preston' 'Blackburn with Darwen' 'Hyndburn' 'Ribble Valley' 'Burnley'\n",
      " 'Pendle' 'Rossendale' 'Wirral' 'Sefton' 'St. Helens' 'Liverpool'\n",
      " 'Knowsley' 'Manchester' 'Salford' 'Tameside' 'Stockport' 'Bolton' 'Wigan'\n",
      " 'Trafford' 'Bury' 'Rochdale' 'Oldham' 'Vale Royal' 'Crewe and Nantwich'\n",
      " 'Halton' 'Chester' 'Macclesfield' 'Cheshire East' 'Warrington'\n",
      " 'Crewe and ntwich' 'Cheshire West and Chester' 'Congleton'\n",
      " 'Ellesmere Port and Neston' 'Wansbeck' 'Blyth Valley' 'North Tyneside'\n",
      " 'Newcastle upon Tyne' 'Tynedale' 'Alnwick' 'South Tyneside' 'Gateshead'\n",
      " 'Castle Morpeth' 'Sunderland' 'Berwick-upon-Tweed' 'Northumberland'\n",
      " 'Durham' 'County Durham' 'Easington' 'Chester-le-Street' 'Derwentside'\n",
      " 'Wear Valley' 'Teesdale' 'Darlington' 'Sedgefield' 'Hambleton' 'York'\n",
      " 'Craven' 'Richmondshire' 'Scarborough' 'Selby' 'Harrogate' 'Ryedale'\n",
      " 'Calderdale' 'Bradford' 'Wakefield' 'Leeds' 'Kirklees' 'Doncaster'\n",
      " 'Rotherham' 'Barnsley' 'Sheffield' 'North East Lincolnshire'\n",
      " 'North Lincolnshire' 'East Riding of Yorkshire'\n",
      " 'Kingston upon Hull, City of' 'Hartlepool' 'Redcar and Cleveland'\n",
      " 'Middlesbrough' 'Stockton-on-Tees' 'Birmingham' 'Wolverhampton' 'Walsall'\n",
      " 'Dudley' 'Sandwell' 'Solihull' 'Coventry' 'Lichfield' 'Stafford'\n",
      " 'Stoke-on-Trent' 'East Staffordshire' 'Newcastle-under-Lyme'\n",
      " 'Cannock Chase' 'South Staffordshire' 'Tamworth'\n",
      " 'Staffordshire Moorlands' 'Wychavon' 'Malvern Hills' 'Worcester'\n",
      " 'Wyre Forest' 'Herefordshire, County of' 'Shropshire' 'Redditch'\n",
      " 'Bromsgrove' 'South Shropshire' 'North Shropshire'\n",
      " 'Shrewsbury and Atcham' 'Oswestry' 'Telford and Wrekin' 'Bridgnorth'\n",
      " 'Stratford-upon-Avon' 'Warwick' 'North Warwickshire' 'Rugby'\n",
      " 'Nuneaton and Bedworth' 'Amber Valley' 'Erewash' 'Bolsover'\n",
      " 'Derbyshire Dales' 'High Peak' 'Chesterfield' 'North East Derbyshire'\n",
      " 'Derby' 'South Derbyshire' 'Ashfield' 'Mansfield' 'Newark and Sherwood'\n",
      " 'Nottingham' 'Gedling' 'Bassetlaw' 'Broxtowe' 'Rushcliffe'\n",
      " 'South Kesteven' 'South Holland' 'North Kesteven' 'Lincoln'\n",
      " 'East Lindsey' 'Boston' 'West Lindsey' 'Leicester' 'Melton' 'Charnwood'\n",
      " 'Blaby' 'Harborough' 'Rutland' 'Hinckley and Bosworth'\n",
      " 'North West Leicestershire' 'Oadby and Wigston' 'Corby' 'Wellingborough'\n",
      " 'Daventry' 'Kettering' 'East Northamptonshire' 'Northampton'\n",
      " 'South Northamptonshire' 'South Cambridgeshire' 'Cambridge'\n",
      " 'Peterborough' 'East Cambridgeshire' 'Huntingdonshire' 'Fenland'\n",
      " 'Great Yarmouth' 'Norwich' 'Breckland' 'Broadland'\n",
      " \"King's Lynn and West Norfolk\" 'South Norfolk' 'North Norfolk'\n",
      " 'Mid Suffolk' 'Suffolk Coastal' 'Forest Heath' 'St. Edmundsbury'\n",
      " 'Babergh' 'Ipswich' 'Waveney' 'Bedford' 'Mid Bedfordshire'\n",
      " 'Central Bedfordshire' 'South Bedfordshire' 'Luton' 'East Hertfordshire'\n",
      " 'Broxbourne' 'Welwyn Hatfield' 'North Hertfordshire' 'Watford'\n",
      " 'Three Rivers' 'Dacorum' 'Hertsmere' 'St. Albans' 'Stevege' 'Stevenage'\n",
      " 'Braintree' 'Chelmsford' 'Epping Forest' 'Maldon' 'Tendring' 'Basildon'\n",
      " 'Brentwood' 'Southend-on-Sea' 'Colchester' 'Uttlesford' 'Harlow'\n",
      " 'Thurrock' 'Castle Point' 'Rochford' 'Aylesbury Vale' 'Wycombe'\n",
      " 'South Bucks' 'Chiltern' 'Milton Keynes' 'South Oxfordshire' 'Slough'\n",
      " 'Cherwell' 'Oxford' 'Vale of White Horse' 'West Oxfordshire'\n",
      " 'West Berkshire' 'Windsor and Maidenhead' 'Bracknell Forest' 'Reading'\n",
      " 'Wokingham' 'Rushmoor' 'Basingstoke and Deane' 'Isle of Wight' 'Hart'\n",
      " 'Portsmouth' 'Fareham' 'Southampton' 'East Hampshire' 'Winchester'\n",
      " 'Gosport' 'New Forest' 'Eastleigh' 'Test Valley' 'Havant' 'Elmbridge'\n",
      " 'Mole Valley' 'Runnymede' 'Epsom and Ewell' 'Guildford' 'Spelthorne'\n",
      " 'Reigate and Banstead' 'Waverley' 'Surrey Heath' 'Woking' 'Tandridge'\n",
      " 'Medway' 'Dartford' 'Gravesham' 'Tonbridge and Malling' 'Canterbury'\n",
      " 'Thanet' 'Swale' 'Maidstone' 'Tunbridge Wells' 'Sevenoaks' 'Shepway'\n",
      " 'Ashford' 'Dover' 'Brighton and Hove' 'Worthing' 'Hastings' 'Horsham'\n",
      " 'Wealden' 'Lewes' 'Mid Sussex' 'Eastbourne' 'Crawley' 'Rother' 'Arun'\n",
      " 'Chichester' 'Adur' 'Cornwall' 'Kerrier' 'Penwith' 'North Cornwall'\n",
      " 'Caradon' 'Plymouth' 'Torbay' 'North Devon' 'Torridge' 'Exeter'\n",
      " 'South Hams' 'West Devon' 'Restormel' 'Carrick' 'Teignbridge'\n",
      " 'East Devon' 'Mid Devon' 'Mendip' 'South Gloucestershire'\n",
      " 'North Somerset' 'Sedgemoor' 'Taunton Deane' 'Bristol, City of'\n",
      " 'South Somerset' 'West Somerset' 'Bath and North East Somerset'\n",
      " 'Cotswold' 'Gloucester' 'Stroud' 'Tewkesbury' 'Cheltenham'\n",
      " 'Forest of Dean' 'Swindon' 'Wiltshire' 'West Wiltshire' 'Salisbury'\n",
      " 'Kennet' 'North Wiltshire' 'Bournemouth' 'West Dorset' 'Poole'\n",
      " 'East Dorset' 'Christchurch' 'Purbeck' 'North Dorset'\n",
      " 'Weymouth and Portland' 'Flintshire' 'Denbighshire' 'Wrexham' 'Conwy'\n",
      " 'Gwynedd' 'Isle of Anglesey' 'Caerphilly' 'Torfaen' 'Newport'\n",
      " 'Blaeu Gwent' 'Blaenau Gwent' 'Monmouthshire' 'Rhondda, Cynon, Taff'\n",
      " 'Merthyr Tydfil' 'Cardiff' 'The Vale of Glamorgan' 'Bridgend'\n",
      " 'Neath Port Talbot' 'Swansea' 'Carmarthenshire' 'Ceredigion'\n",
      " 'Pembrokeshire' 'Powys' 'Highland' 'Western Isles' 'Orkney Islands'\n",
      " 'Shetland Islands' 'Moray' 'Aberdeenshire' 'Aberdeen City' 'Angus'\n",
      " 'Perth and Kinross' 'Dundee City' 'Fife' 'Edinburgh, City of'\n",
      " 'East Lothian' 'Scottish Borders' 'West Lothian' 'Midlothian' 'Falkirk'\n",
      " 'Stirling' 'Clackmannshire' 'Clackmannanshire' 'Glasgow City'\n",
      " 'East Dunbartonshire' 'East Renfrewshire' 'Renfrewshire' 'Inverclyde'\n",
      " 'Argyll and Bute' 'West Dunbartonshire' 'North Lanarkshire'\n",
      " 'North Larkshire' 'South Lanarkshire' 'South Larkshire' 'North Ayrshire'\n",
      " 'East Ayrshire' 'South Ayrshire' 'Dumfries and Galloway']\n",
      "number of unique values in Local_Authority_(District): 422\n",
      "\n",
      "\n",
      "Unique values in Police_Force: ['Metropolitan Police' 'City of London' 'Cumbria' 'Lancashire'\n",
      " 'Merseyside' 'Greater Manchester' 'Cheshire' 'Northumbria' 'Durham'\n",
      " 'North Yorkshire' 'West Yorkshire' 'South Yorkshire' 'Humberside'\n",
      " 'Cleveland' 'West Midlands' 'Staffordshire' 'West Mercia' 'Warwickshire'\n",
      " 'Derbyshire' 'Nottinghamshire' 'Lincolnshire' 'Leicestershire'\n",
      " 'Northamptonshire' 'Cambridgeshire' 'Norfolk' 'Suffolk' 'Bedfordshire'\n",
      " 'Hertfordshire' 'Essex' 'Thames Valley' 'Hampshire' 'Surrey' 'Kent'\n",
      " 'Sussex' 'Devon and Cornwall' 'Avon and Somerset' 'Gloucestershire'\n",
      " 'Wiltshire' 'Dorset' 'North Wales' 'Gwent' 'South Wales' 'Dyfed-Powys'\n",
      " 'Northern' 'Grampian' 'Tayside' 'Fife' 'Lothian and Borders' 'Central'\n",
      " 'Strathclyde' 'Dumfries and Galloway']\n",
      "number of unique values in Police_Force: 51\n",
      "\n",
      "\n",
      "Unique values in Road_Surface_Conditions: ['Dry' 'Wet or damp' 'Frost or ice' 'Snow' 'Flood over 3cm. deep']\n",
      "number of unique values in Road_Surface_Conditions: 5\n",
      "\n",
      "\n",
      "Unique values in Road_Type: ['One way street' 'Single carriageway' 'Dual carriageway' 'Roundabout'\n",
      " 'Slip road']\n",
      "number of unique values in Road_Type: 5\n",
      "\n",
      "\n",
      "Unique values in Time: ['15:11' '10:59' '14:19' ... '4:14' '5:17' '2:52']\n",
      "number of unique values in Time: 1439\n",
      "\n",
      "\n",
      "Unique values in Urban_or_Rural_Area: ['Urban' 'Rural']\n",
      "number of unique values in Urban_or_Rural_Area: 2\n",
      "\n",
      "\n",
      "Unique values in Weather_Conditions: ['Fine no high winds' 'Other' 'Raining no high winds'\n",
      " 'Snowing no high winds' 'Fine + high winds' 'Raining + high winds'\n",
      " 'Snowing + high winds' 'Fog or mist']\n",
      "number of unique values in Weather_Conditions: 8\n",
      "\n",
      "\n",
      "Unique values in Vehicle_Type: ['Car' 'Taxi/Private hire car' 'Motorcycle over 500cc'\n",
      " 'Van / Goods 3.5 tonnes mgw or under' 'Goods over 3.5t. and under 7.5t'\n",
      " 'Motorcycle 125cc and under' 'Motorcycle 50cc and under'\n",
      " 'Bus or coach (17 or more pass seats)' 'Goods 7.5 tonnes mgw and over'\n",
      " 'Other vehicle' 'Motorcycle over 125cc and up to 500cc'\n",
      " 'Agricultural vehicle' 'Minibus (8 - 16 passenger seats)' 'Pedal cycle'\n",
      " 'Ridden horse']\n",
      "number of unique values in Vehicle_Type: 15\n",
      "\n",
      "\n"
     ]
    }
   ],
   "source": [
    "for col in ['Month', 'Day_of_Week', 'Junction_Control', 'Junction_Detail',\n",
    "       'Accident_Severity', 'Light_Conditions',\n",
    "       'Local_Authority_(District)',\n",
    "        'Police_Force', 'Road_Surface_Conditions',\n",
    "       'Road_Type', 'Time', 'Urban_or_Rural_Area',\n",
    "       'Weather_Conditions', 'Vehicle_Type']:\n",
    "    print(f\"Unique values in {col}: {df[col].unique()}\")\n",
    "    print(f\"number of unique values in {col}: {df[col].nunique()}\")\n",
    "    print(\"\\n\")"
   ]
  },
  {
   "cell_type": "markdown",
   "id": "eb7584ba",
   "metadata": {},
   "source": [
    "# Encoding"
   ]
  },
  {
   "cell_type": "code",
   "execution_count": null,
   "id": "7eca9671",
   "metadata": {},
   "outputs": [],
   "source": [
    "LE = LabelEncoder()\n",
    "for col in ['Month', 'Day_of_Week', 'Junction_Control', 'Junction_Detail',\n",
    "       'Accident_Severity', 'Light_Conditions',\n",
    "       'Local_Authority_(District)',\n",
    "        'Police_Force', 'Road_Surface_Conditions',\n",
    "       'Road_Type', 'Time', 'Urban_or_Rural_Area',\n",
    "       'Weather_Conditions', 'Vehicle_Type']:\n",
    "    df[col] = LE.fit_transform(df[col])"
   ]
  },
  {
   "cell_type": "code",
   "execution_count": null,
   "id": "473e76e3",
   "metadata": {},
   "outputs": [
    {
     "data": {
      "application/vnd.microsoft.datawrangler.viewer.v0+json": {
       "columns": [
        {
         "name": "index",
         "rawType": "int64",
         "type": "integer"
        },
        {
         "name": "Month",
         "rawType": "int32",
         "type": "integer"
        },
        {
         "name": "Day_of_Week",
         "rawType": "int32",
         "type": "integer"
        },
        {
         "name": "Year",
         "rawType": "int64",
         "type": "integer"
        },
        {
         "name": "Junction_Control",
         "rawType": "int32",
         "type": "integer"
        },
        {
         "name": "Junction_Detail",
         "rawType": "int32",
         "type": "integer"
        },
        {
         "name": "Accident_Severity",
         "rawType": "int32",
         "type": "integer"
        },
        {
         "name": "Latitude",
         "rawType": "float64",
         "type": "float"
        },
        {
         "name": "Light_Conditions",
         "rawType": "int32",
         "type": "integer"
        },
        {
         "name": "Local_Authority_(District)",
         "rawType": "int32",
         "type": "integer"
        },
        {
         "name": "Longitude",
         "rawType": "float64",
         "type": "float"
        },
        {
         "name": "Number_of_Casualties",
         "rawType": "int64",
         "type": "integer"
        },
        {
         "name": "Number_of_Vehicles",
         "rawType": "int64",
         "type": "integer"
        },
        {
         "name": "Police_Force",
         "rawType": "int32",
         "type": "integer"
        },
        {
         "name": "Road_Surface_Conditions",
         "rawType": "int32",
         "type": "integer"
        },
        {
         "name": "Road_Type",
         "rawType": "int32",
         "type": "integer"
        },
        {
         "name": "Speed_limit",
         "rawType": "int64",
         "type": "integer"
        },
        {
         "name": "Time",
         "rawType": "int32",
         "type": "integer"
        },
        {
         "name": "Urban_or_Rural_Area",
         "rawType": "int32",
         "type": "integer"
        },
        {
         "name": "Weather_Conditions",
         "rawType": "int32",
         "type": "integer"
        },
        {
         "name": "Vehicle_Type",
         "rawType": "int32",
         "type": "integer"
        }
       ],
       "conversionMethod": "pd.DataFrame",
       "ref": "8f548621-17b8-4f66-ae5e-c167344f2d17",
       "rows": [
        [
         "0",
         "4",
         "4",
         "2021",
         "3",
         "8",
         "1",
         "51.512273",
         "4",
         "185",
         "-0.201349",
         "1",
         "2",
         "29",
         "0",
         "1",
         "30",
         "370",
         "1",
         "1",
         "2"
        ],
        [
         "1",
         "4",
         "1",
         "2021",
         "3",
         "0",
         "1",
         "51.514399",
         "4",
         "185",
         "-0.199248",
         "11",
         "2",
         "29",
         "4",
         "3",
         "30",
         "118",
         "1",
         "1",
         "13"
        ],
        [
         "2",
         "4",
         "3",
         "2021",
         "3",
         "8",
         "2",
         "51.486668",
         "4",
         "185",
         "-0.179599",
         "1",
         "2",
         "29",
         "0",
         "3",
         "30",
         "318",
         "1",
         "1",
         "13"
        ],
        [
         "3",
         "4",
         "1",
         "2021",
         "1",
         "8",
         "1",
         "51.507804",
         "4",
         "185",
         "-0.20311",
         "1",
         "2",
         "29",
         "2",
         "3",
         "30",
         "1329",
         "1",
         "3",
         "9"
        ],
        [
         "4",
         "4",
         "5",
         "2021",
         "1",
         "0",
         "1",
         "51.482076",
         "1",
         "185",
         "-0.173445",
         "1",
         "2",
         "29",
         "0",
         "3",
         "30",
         "504",
         "1",
         "1",
         "2"
        ]
       ],
       "shape": {
        "columns": 20,
        "rows": 5
       }
      },
      "text/html": [
       "<div>\n",
       "<style scoped>\n",
       "    .dataframe tbody tr th:only-of-type {\n",
       "        vertical-align: middle;\n",
       "    }\n",
       "\n",
       "    .dataframe tbody tr th {\n",
       "        vertical-align: top;\n",
       "    }\n",
       "\n",
       "    .dataframe thead th {\n",
       "        text-align: right;\n",
       "    }\n",
       "</style>\n",
       "<table border=\"1\" class=\"dataframe\">\n",
       "  <thead>\n",
       "    <tr style=\"text-align: right;\">\n",
       "      <th></th>\n",
       "      <th>Month</th>\n",
       "      <th>Day_of_Week</th>\n",
       "      <th>Year</th>\n",
       "      <th>Junction_Control</th>\n",
       "      <th>Junction_Detail</th>\n",
       "      <th>Accident_Severity</th>\n",
       "      <th>Latitude</th>\n",
       "      <th>Light_Conditions</th>\n",
       "      <th>Local_Authority_(District)</th>\n",
       "      <th>Longitude</th>\n",
       "      <th>Number_of_Casualties</th>\n",
       "      <th>Number_of_Vehicles</th>\n",
       "      <th>Police_Force</th>\n",
       "      <th>Road_Surface_Conditions</th>\n",
       "      <th>Road_Type</th>\n",
       "      <th>Speed_limit</th>\n",
       "      <th>Time</th>\n",
       "      <th>Urban_or_Rural_Area</th>\n",
       "      <th>Weather_Conditions</th>\n",
       "      <th>Vehicle_Type</th>\n",
       "    </tr>\n",
       "  </thead>\n",
       "  <tbody>\n",
       "    <tr>\n",
       "      <th>0</th>\n",
       "      <td>4</td>\n",
       "      <td>4</td>\n",
       "      <td>2021</td>\n",
       "      <td>3</td>\n",
       "      <td>8</td>\n",
       "      <td>1</td>\n",
       "      <td>51.512273</td>\n",
       "      <td>4</td>\n",
       "      <td>185</td>\n",
       "      <td>-0.201349</td>\n",
       "      <td>1</td>\n",
       "      <td>2</td>\n",
       "      <td>29</td>\n",
       "      <td>0</td>\n",
       "      <td>1</td>\n",
       "      <td>30</td>\n",
       "      <td>370</td>\n",
       "      <td>1</td>\n",
       "      <td>1</td>\n",
       "      <td>2</td>\n",
       "    </tr>\n",
       "    <tr>\n",
       "      <th>1</th>\n",
       "      <td>4</td>\n",
       "      <td>1</td>\n",
       "      <td>2021</td>\n",
       "      <td>3</td>\n",
       "      <td>0</td>\n",
       "      <td>1</td>\n",
       "      <td>51.514399</td>\n",
       "      <td>4</td>\n",
       "      <td>185</td>\n",
       "      <td>-0.199248</td>\n",
       "      <td>11</td>\n",
       "      <td>2</td>\n",
       "      <td>29</td>\n",
       "      <td>4</td>\n",
       "      <td>3</td>\n",
       "      <td>30</td>\n",
       "      <td>118</td>\n",
       "      <td>1</td>\n",
       "      <td>1</td>\n",
       "      <td>13</td>\n",
       "    </tr>\n",
       "    <tr>\n",
       "      <th>2</th>\n",
       "      <td>4</td>\n",
       "      <td>3</td>\n",
       "      <td>2021</td>\n",
       "      <td>3</td>\n",
       "      <td>8</td>\n",
       "      <td>2</td>\n",
       "      <td>51.486668</td>\n",
       "      <td>4</td>\n",
       "      <td>185</td>\n",
       "      <td>-0.179599</td>\n",
       "      <td>1</td>\n",
       "      <td>2</td>\n",
       "      <td>29</td>\n",
       "      <td>0</td>\n",
       "      <td>3</td>\n",
       "      <td>30</td>\n",
       "      <td>318</td>\n",
       "      <td>1</td>\n",
       "      <td>1</td>\n",
       "      <td>13</td>\n",
       "    </tr>\n",
       "    <tr>\n",
       "      <th>3</th>\n",
       "      <td>4</td>\n",
       "      <td>1</td>\n",
       "      <td>2021</td>\n",
       "      <td>1</td>\n",
       "      <td>8</td>\n",
       "      <td>1</td>\n",
       "      <td>51.507804</td>\n",
       "      <td>4</td>\n",
       "      <td>185</td>\n",
       "      <td>-0.203110</td>\n",
       "      <td>1</td>\n",
       "      <td>2</td>\n",
       "      <td>29</td>\n",
       "      <td>2</td>\n",
       "      <td>3</td>\n",
       "      <td>30</td>\n",
       "      <td>1329</td>\n",
       "      <td>1</td>\n",
       "      <td>3</td>\n",
       "      <td>9</td>\n",
       "    </tr>\n",
       "    <tr>\n",
       "      <th>4</th>\n",
       "      <td>4</td>\n",
       "      <td>5</td>\n",
       "      <td>2021</td>\n",
       "      <td>1</td>\n",
       "      <td>0</td>\n",
       "      <td>1</td>\n",
       "      <td>51.482076</td>\n",
       "      <td>1</td>\n",
       "      <td>185</td>\n",
       "      <td>-0.173445</td>\n",
       "      <td>1</td>\n",
       "      <td>2</td>\n",
       "      <td>29</td>\n",
       "      <td>0</td>\n",
       "      <td>3</td>\n",
       "      <td>30</td>\n",
       "      <td>504</td>\n",
       "      <td>1</td>\n",
       "      <td>1</td>\n",
       "      <td>2</td>\n",
       "    </tr>\n",
       "  </tbody>\n",
       "</table>\n",
       "</div>"
      ],
      "text/plain": [
       "   Month  Day_of_Week  Year  Junction_Control  Junction_Detail  \\\n",
       "0      4            4  2021                 3                8   \n",
       "1      4            1  2021                 3                0   \n",
       "2      4            3  2021                 3                8   \n",
       "3      4            1  2021                 1                8   \n",
       "4      4            5  2021                 1                0   \n",
       "\n",
       "   Accident_Severity   Latitude  Light_Conditions  Local_Authority_(District)  \\\n",
       "0                  1  51.512273                 4                         185   \n",
       "1                  1  51.514399                 4                         185   \n",
       "2                  2  51.486668                 4                         185   \n",
       "3                  1  51.507804                 4                         185   \n",
       "4                  1  51.482076                 1                         185   \n",
       "\n",
       "   Longitude  Number_of_Casualties  Number_of_Vehicles  Police_Force  \\\n",
       "0  -0.201349                     1                   2            29   \n",
       "1  -0.199248                    11                   2            29   \n",
       "2  -0.179599                     1                   2            29   \n",
       "3  -0.203110                     1                   2            29   \n",
       "4  -0.173445                     1                   2            29   \n",
       "\n",
       "   Road_Surface_Conditions  Road_Type  Speed_limit  Time  Urban_or_Rural_Area  \\\n",
       "0                        0          1           30   370                    1   \n",
       "1                        4          3           30   118                    1   \n",
       "2                        0          3           30   318                    1   \n",
       "3                        2          3           30  1329                    1   \n",
       "4                        0          3           30   504                    1   \n",
       "\n",
       "   Weather_Conditions  Vehicle_Type  \n",
       "0                   1             2  \n",
       "1                   1            13  \n",
       "2                   1            13  \n",
       "3                   3             9  \n",
       "4                   1             2  "
      ]
     },
     "execution_count": 563,
     "metadata": {},
     "output_type": "execute_result"
    }
   ],
   "source": [
    "df.head()"
   ]
  },
  {
   "cell_type": "code",
   "execution_count": null,
   "id": "9eca7f01",
   "metadata": {},
   "outputs": [
    {
     "name": "stdout",
     "output_type": "stream",
     "text": [
      "<class 'pandas.core.frame.DataFrame'>\n",
      "Index: 307968 entries, 0 to 307972\n",
      "Data columns (total 20 columns):\n",
      " #   Column                      Non-Null Count   Dtype  \n",
      "---  ------                      --------------   -----  \n",
      " 0   Month                       307968 non-null  int32  \n",
      " 1   Day_of_Week                 307968 non-null  int32  \n",
      " 2   Year                        307968 non-null  int64  \n",
      " 3   Junction_Control            307968 non-null  int32  \n",
      " 4   Junction_Detail             307968 non-null  int32  \n",
      " 5   Accident_Severity           307968 non-null  int32  \n",
      " 6   Latitude                    307968 non-null  float64\n",
      " 7   Light_Conditions            307968 non-null  int32  \n",
      " 8   Local_Authority_(District)  307968 non-null  int32  \n",
      " 9   Longitude                   307968 non-null  float64\n",
      " 10  Number_of_Casualties        307968 non-null  int64  \n",
      " 11  Number_of_Vehicles          307968 non-null  int64  \n",
      " 12  Police_Force                307968 non-null  int32  \n",
      " 13  Road_Surface_Conditions     307968 non-null  int32  \n",
      " 14  Road_Type                   307968 non-null  int32  \n",
      " 15  Speed_limit                 307968 non-null  int64  \n",
      " 16  Time                        307968 non-null  int32  \n",
      " 17  Urban_or_Rural_Area         307968 non-null  int32  \n",
      " 18  Weather_Conditions          307968 non-null  int32  \n",
      " 19  Vehicle_Type                307968 non-null  int32  \n",
      "dtypes: float64(2), int32(14), int64(4)\n",
      "memory usage: 32.9 MB\n"
     ]
    }
   ],
   "source": [
    "df.info()"
   ]
  },
  {
   "cell_type": "markdown",
   "id": "5a592b12",
   "metadata": {},
   "source": [
    "# putting target in the end"
   ]
  },
  {
   "cell_type": "code",
   "execution_count": null,
   "id": "cf699fcf",
   "metadata": {},
   "outputs": [
    {
     "data": {
      "application/vnd.microsoft.datawrangler.viewer.v0+json": {
       "columns": [
        {
         "name": "index",
         "rawType": "int64",
         "type": "integer"
        },
        {
         "name": "Month",
         "rawType": "int32",
         "type": "integer"
        },
        {
         "name": "Day_of_Week",
         "rawType": "int32",
         "type": "integer"
        },
        {
         "name": "Year",
         "rawType": "int64",
         "type": "integer"
        },
        {
         "name": "Junction_Control",
         "rawType": "int32",
         "type": "integer"
        },
        {
         "name": "Junction_Detail",
         "rawType": "int32",
         "type": "integer"
        },
        {
         "name": "Latitude",
         "rawType": "float64",
         "type": "float"
        },
        {
         "name": "Light_Conditions",
         "rawType": "int32",
         "type": "integer"
        },
        {
         "name": "Local_Authority_(District)",
         "rawType": "int32",
         "type": "integer"
        },
        {
         "name": "Longitude",
         "rawType": "float64",
         "type": "float"
        },
        {
         "name": "Number_of_Casualties",
         "rawType": "int64",
         "type": "integer"
        },
        {
         "name": "Number_of_Vehicles",
         "rawType": "int64",
         "type": "integer"
        },
        {
         "name": "Police_Force",
         "rawType": "int32",
         "type": "integer"
        },
        {
         "name": "Road_Surface_Conditions",
         "rawType": "int32",
         "type": "integer"
        },
        {
         "name": "Road_Type",
         "rawType": "int32",
         "type": "integer"
        },
        {
         "name": "Speed_limit",
         "rawType": "int64",
         "type": "integer"
        },
        {
         "name": "Time",
         "rawType": "int32",
         "type": "integer"
        },
        {
         "name": "Urban_or_Rural_Area",
         "rawType": "int32",
         "type": "integer"
        },
        {
         "name": "Weather_Conditions",
         "rawType": "int32",
         "type": "integer"
        },
        {
         "name": "Vehicle_Type",
         "rawType": "int32",
         "type": "integer"
        },
        {
         "name": "Accident_Severity",
         "rawType": "int32",
         "type": "integer"
        }
       ],
       "conversionMethod": "pd.DataFrame",
       "ref": "552478ae-d70e-4d23-98c8-3eb2d8d9fca8",
       "rows": [
        [
         "0",
         "4",
         "4",
         "2021",
         "3",
         "8",
         "51.512273",
         "4",
         "185",
         "-0.201349",
         "1",
         "2",
         "29",
         "0",
         "1",
         "30",
         "370",
         "1",
         "1",
         "2",
         "1"
        ],
        [
         "1",
         "4",
         "1",
         "2021",
         "3",
         "0",
         "51.514399",
         "4",
         "185",
         "-0.199248",
         "11",
         "2",
         "29",
         "4",
         "3",
         "30",
         "118",
         "1",
         "1",
         "13",
         "1"
        ],
        [
         "2",
         "4",
         "3",
         "2021",
         "3",
         "8",
         "51.486668",
         "4",
         "185",
         "-0.179599",
         "1",
         "2",
         "29",
         "0",
         "3",
         "30",
         "318",
         "1",
         "1",
         "13",
         "2"
        ],
        [
         "3",
         "4",
         "1",
         "2021",
         "1",
         "8",
         "51.507804",
         "4",
         "185",
         "-0.20311",
         "1",
         "2",
         "29",
         "2",
         "3",
         "30",
         "1329",
         "1",
         "3",
         "9",
         "1"
        ],
        [
         "4",
         "4",
         "5",
         "2021",
         "1",
         "0",
         "51.482076",
         "1",
         "185",
         "-0.173445",
         "1",
         "2",
         "29",
         "0",
         "3",
         "30",
         "504",
         "1",
         "1",
         "2",
         "1"
        ]
       ],
       "shape": {
        "columns": 20,
        "rows": 5
       }
      },
      "text/html": [
       "<div>\n",
       "<style scoped>\n",
       "    .dataframe tbody tr th:only-of-type {\n",
       "        vertical-align: middle;\n",
       "    }\n",
       "\n",
       "    .dataframe tbody tr th {\n",
       "        vertical-align: top;\n",
       "    }\n",
       "\n",
       "    .dataframe thead th {\n",
       "        text-align: right;\n",
       "    }\n",
       "</style>\n",
       "<table border=\"1\" class=\"dataframe\">\n",
       "  <thead>\n",
       "    <tr style=\"text-align: right;\">\n",
       "      <th></th>\n",
       "      <th>Month</th>\n",
       "      <th>Day_of_Week</th>\n",
       "      <th>Year</th>\n",
       "      <th>Junction_Control</th>\n",
       "      <th>Junction_Detail</th>\n",
       "      <th>Latitude</th>\n",
       "      <th>Light_Conditions</th>\n",
       "      <th>Local_Authority_(District)</th>\n",
       "      <th>Longitude</th>\n",
       "      <th>Number_of_Casualties</th>\n",
       "      <th>Number_of_Vehicles</th>\n",
       "      <th>Police_Force</th>\n",
       "      <th>Road_Surface_Conditions</th>\n",
       "      <th>Road_Type</th>\n",
       "      <th>Speed_limit</th>\n",
       "      <th>Time</th>\n",
       "      <th>Urban_or_Rural_Area</th>\n",
       "      <th>Weather_Conditions</th>\n",
       "      <th>Vehicle_Type</th>\n",
       "      <th>Accident_Severity</th>\n",
       "    </tr>\n",
       "  </thead>\n",
       "  <tbody>\n",
       "    <tr>\n",
       "      <th>0</th>\n",
       "      <td>4</td>\n",
       "      <td>4</td>\n",
       "      <td>2021</td>\n",
       "      <td>3</td>\n",
       "      <td>8</td>\n",
       "      <td>51.512273</td>\n",
       "      <td>4</td>\n",
       "      <td>185</td>\n",
       "      <td>-0.201349</td>\n",
       "      <td>1</td>\n",
       "      <td>2</td>\n",
       "      <td>29</td>\n",
       "      <td>0</td>\n",
       "      <td>1</td>\n",
       "      <td>30</td>\n",
       "      <td>370</td>\n",
       "      <td>1</td>\n",
       "      <td>1</td>\n",
       "      <td>2</td>\n",
       "      <td>1</td>\n",
       "    </tr>\n",
       "    <tr>\n",
       "      <th>1</th>\n",
       "      <td>4</td>\n",
       "      <td>1</td>\n",
       "      <td>2021</td>\n",
       "      <td>3</td>\n",
       "      <td>0</td>\n",
       "      <td>51.514399</td>\n",
       "      <td>4</td>\n",
       "      <td>185</td>\n",
       "      <td>-0.199248</td>\n",
       "      <td>11</td>\n",
       "      <td>2</td>\n",
       "      <td>29</td>\n",
       "      <td>4</td>\n",
       "      <td>3</td>\n",
       "      <td>30</td>\n",
       "      <td>118</td>\n",
       "      <td>1</td>\n",
       "      <td>1</td>\n",
       "      <td>13</td>\n",
       "      <td>1</td>\n",
       "    </tr>\n",
       "    <tr>\n",
       "      <th>2</th>\n",
       "      <td>4</td>\n",
       "      <td>3</td>\n",
       "      <td>2021</td>\n",
       "      <td>3</td>\n",
       "      <td>8</td>\n",
       "      <td>51.486668</td>\n",
       "      <td>4</td>\n",
       "      <td>185</td>\n",
       "      <td>-0.179599</td>\n",
       "      <td>1</td>\n",
       "      <td>2</td>\n",
       "      <td>29</td>\n",
       "      <td>0</td>\n",
       "      <td>3</td>\n",
       "      <td>30</td>\n",
       "      <td>318</td>\n",
       "      <td>1</td>\n",
       "      <td>1</td>\n",
       "      <td>13</td>\n",
       "      <td>2</td>\n",
       "    </tr>\n",
       "    <tr>\n",
       "      <th>3</th>\n",
       "      <td>4</td>\n",
       "      <td>1</td>\n",
       "      <td>2021</td>\n",
       "      <td>1</td>\n",
       "      <td>8</td>\n",
       "      <td>51.507804</td>\n",
       "      <td>4</td>\n",
       "      <td>185</td>\n",
       "      <td>-0.203110</td>\n",
       "      <td>1</td>\n",
       "      <td>2</td>\n",
       "      <td>29</td>\n",
       "      <td>2</td>\n",
       "      <td>3</td>\n",
       "      <td>30</td>\n",
       "      <td>1329</td>\n",
       "      <td>1</td>\n",
       "      <td>3</td>\n",
       "      <td>9</td>\n",
       "      <td>1</td>\n",
       "    </tr>\n",
       "    <tr>\n",
       "      <th>4</th>\n",
       "      <td>4</td>\n",
       "      <td>5</td>\n",
       "      <td>2021</td>\n",
       "      <td>1</td>\n",
       "      <td>0</td>\n",
       "      <td>51.482076</td>\n",
       "      <td>1</td>\n",
       "      <td>185</td>\n",
       "      <td>-0.173445</td>\n",
       "      <td>1</td>\n",
       "      <td>2</td>\n",
       "      <td>29</td>\n",
       "      <td>0</td>\n",
       "      <td>3</td>\n",
       "      <td>30</td>\n",
       "      <td>504</td>\n",
       "      <td>1</td>\n",
       "      <td>1</td>\n",
       "      <td>2</td>\n",
       "      <td>1</td>\n",
       "    </tr>\n",
       "  </tbody>\n",
       "</table>\n",
       "</div>"
      ],
      "text/plain": [
       "   Month  Day_of_Week  Year  Junction_Control  Junction_Detail   Latitude  \\\n",
       "0      4            4  2021                 3                8  51.512273   \n",
       "1      4            1  2021                 3                0  51.514399   \n",
       "2      4            3  2021                 3                8  51.486668   \n",
       "3      4            1  2021                 1                8  51.507804   \n",
       "4      4            5  2021                 1                0  51.482076   \n",
       "\n",
       "   Light_Conditions  Local_Authority_(District)  Longitude  \\\n",
       "0                 4                         185  -0.201349   \n",
       "1                 4                         185  -0.199248   \n",
       "2                 4                         185  -0.179599   \n",
       "3                 4                         185  -0.203110   \n",
       "4                 1                         185  -0.173445   \n",
       "\n",
       "   Number_of_Casualties  Number_of_Vehicles  Police_Force  \\\n",
       "0                     1                   2            29   \n",
       "1                    11                   2            29   \n",
       "2                     1                   2            29   \n",
       "3                     1                   2            29   \n",
       "4                     1                   2            29   \n",
       "\n",
       "   Road_Surface_Conditions  Road_Type  Speed_limit  Time  Urban_or_Rural_Area  \\\n",
       "0                        0          1           30   370                    1   \n",
       "1                        4          3           30   118                    1   \n",
       "2                        0          3           30   318                    1   \n",
       "3                        2          3           30  1329                    1   \n",
       "4                        0          3           30   504                    1   \n",
       "\n",
       "   Weather_Conditions  Vehicle_Type  Accident_Severity  \n",
       "0                   1             2                  1  \n",
       "1                   1            13                  1  \n",
       "2                   1            13                  2  \n",
       "3                   3             9                  1  \n",
       "4                   1             2                  1  "
      ]
     },
     "execution_count": 565,
     "metadata": {},
     "output_type": "execute_result"
    }
   ],
   "source": [
    "Accident_Severity = df['Accident_Severity']\n",
    "df.drop(['Accident_Severity'], axis=1, inplace=True)\n",
    "df['Accident_Severity'] = Accident_Severity\n",
    "df.head()"
   ]
  },
  {
   "cell_type": "markdown",
   "id": "0ae4cd80",
   "metadata": {},
   "source": [
    "# spliting"
   ]
  },
  {
   "cell_type": "code",
   "execution_count": null,
   "id": "1c5fe65f",
   "metadata": {},
   "outputs": [],
   "source": [
    "X = df.drop('Accident_Severity', axis=1)\n",
    "y = df['Accident_Severity']"
   ]
  },
  {
   "cell_type": "code",
   "execution_count": null,
   "id": "d77dd7c0",
   "metadata": {},
   "outputs": [
    {
     "data": {
      "text/plain": [
       "((307968, 19), (307968,))"
      ]
     },
     "execution_count": 567,
     "metadata": {},
     "output_type": "execute_result"
    }
   ],
   "source": [
    "X.shape, y.shape"
   ]
  },
  {
   "cell_type": "code",
   "execution_count": null,
   "id": "50e107dd",
   "metadata": {},
   "outputs": [
    {
     "data": {
      "application/vnd.microsoft.datawrangler.viewer.v0+json": {
       "columns": [
        {
         "name": "index",
         "rawType": "int64",
         "type": "integer"
        },
        {
         "name": "Month",
         "rawType": "int32",
         "type": "integer"
        },
        {
         "name": "Day_of_Week",
         "rawType": "int32",
         "type": "integer"
        },
        {
         "name": "Year",
         "rawType": "int64",
         "type": "integer"
        },
        {
         "name": "Junction_Control",
         "rawType": "int32",
         "type": "integer"
        },
        {
         "name": "Junction_Detail",
         "rawType": "int32",
         "type": "integer"
        },
        {
         "name": "Latitude",
         "rawType": "float64",
         "type": "float"
        },
        {
         "name": "Light_Conditions",
         "rawType": "int32",
         "type": "integer"
        },
        {
         "name": "Local_Authority_(District)",
         "rawType": "int32",
         "type": "integer"
        },
        {
         "name": "Longitude",
         "rawType": "float64",
         "type": "float"
        },
        {
         "name": "Number_of_Casualties",
         "rawType": "int64",
         "type": "integer"
        },
        {
         "name": "Number_of_Vehicles",
         "rawType": "int64",
         "type": "integer"
        },
        {
         "name": "Police_Force",
         "rawType": "int32",
         "type": "integer"
        },
        {
         "name": "Road_Surface_Conditions",
         "rawType": "int32",
         "type": "integer"
        },
        {
         "name": "Road_Type",
         "rawType": "int32",
         "type": "integer"
        },
        {
         "name": "Speed_limit",
         "rawType": "int64",
         "type": "integer"
        },
        {
         "name": "Time",
         "rawType": "int32",
         "type": "integer"
        },
        {
         "name": "Urban_or_Rural_Area",
         "rawType": "int32",
         "type": "integer"
        },
        {
         "name": "Weather_Conditions",
         "rawType": "int32",
         "type": "integer"
        },
        {
         "name": "Vehicle_Type",
         "rawType": "int32",
         "type": "integer"
        }
       ],
       "conversionMethod": "pd.DataFrame",
       "ref": "488ad6e4-1b29-4949-baa7-e17f6046f2e7",
       "rows": [
        [
         "0",
         "4",
         "4",
         "2021",
         "3",
         "8",
         "51.512273",
         "4",
         "185",
         "-0.201349",
         "1",
         "2",
         "29",
         "0",
         "1",
         "30",
         "370",
         "1",
         "1",
         "2"
        ],
        [
         "1",
         "4",
         "1",
         "2021",
         "3",
         "0",
         "51.514399",
         "4",
         "185",
         "-0.199248",
         "11",
         "2",
         "29",
         "4",
         "3",
         "30",
         "118",
         "1",
         "1",
         "13"
        ],
        [
         "2",
         "4",
         "3",
         "2021",
         "3",
         "8",
         "51.486668",
         "4",
         "185",
         "-0.179599",
         "1",
         "2",
         "29",
         "0",
         "3",
         "30",
         "318",
         "1",
         "1",
         "13"
        ],
        [
         "3",
         "4",
         "1",
         "2021",
         "1",
         "8",
         "51.507804",
         "4",
         "185",
         "-0.20311",
         "1",
         "2",
         "29",
         "2",
         "3",
         "30",
         "1329",
         "1",
         "3",
         "9"
        ],
        [
         "4",
         "4",
         "5",
         "2021",
         "1",
         "0",
         "51.482076",
         "1",
         "185",
         "-0.173445",
         "1",
         "2",
         "29",
         "0",
         "3",
         "30",
         "504",
         "1",
         "1",
         "2"
        ]
       ],
       "shape": {
        "columns": 19,
        "rows": 5
       }
      },
      "text/html": [
       "<div>\n",
       "<style scoped>\n",
       "    .dataframe tbody tr th:only-of-type {\n",
       "        vertical-align: middle;\n",
       "    }\n",
       "\n",
       "    .dataframe tbody tr th {\n",
       "        vertical-align: top;\n",
       "    }\n",
       "\n",
       "    .dataframe thead th {\n",
       "        text-align: right;\n",
       "    }\n",
       "</style>\n",
       "<table border=\"1\" class=\"dataframe\">\n",
       "  <thead>\n",
       "    <tr style=\"text-align: right;\">\n",
       "      <th></th>\n",
       "      <th>Month</th>\n",
       "      <th>Day_of_Week</th>\n",
       "      <th>Year</th>\n",
       "      <th>Junction_Control</th>\n",
       "      <th>Junction_Detail</th>\n",
       "      <th>Latitude</th>\n",
       "      <th>Light_Conditions</th>\n",
       "      <th>Local_Authority_(District)</th>\n",
       "      <th>Longitude</th>\n",
       "      <th>Number_of_Casualties</th>\n",
       "      <th>Number_of_Vehicles</th>\n",
       "      <th>Police_Force</th>\n",
       "      <th>Road_Surface_Conditions</th>\n",
       "      <th>Road_Type</th>\n",
       "      <th>Speed_limit</th>\n",
       "      <th>Time</th>\n",
       "      <th>Urban_or_Rural_Area</th>\n",
       "      <th>Weather_Conditions</th>\n",
       "      <th>Vehicle_Type</th>\n",
       "    </tr>\n",
       "  </thead>\n",
       "  <tbody>\n",
       "    <tr>\n",
       "      <th>0</th>\n",
       "      <td>4</td>\n",
       "      <td>4</td>\n",
       "      <td>2021</td>\n",
       "      <td>3</td>\n",
       "      <td>8</td>\n",
       "      <td>51.512273</td>\n",
       "      <td>4</td>\n",
       "      <td>185</td>\n",
       "      <td>-0.201349</td>\n",
       "      <td>1</td>\n",
       "      <td>2</td>\n",
       "      <td>29</td>\n",
       "      <td>0</td>\n",
       "      <td>1</td>\n",
       "      <td>30</td>\n",
       "      <td>370</td>\n",
       "      <td>1</td>\n",
       "      <td>1</td>\n",
       "      <td>2</td>\n",
       "    </tr>\n",
       "    <tr>\n",
       "      <th>1</th>\n",
       "      <td>4</td>\n",
       "      <td>1</td>\n",
       "      <td>2021</td>\n",
       "      <td>3</td>\n",
       "      <td>0</td>\n",
       "      <td>51.514399</td>\n",
       "      <td>4</td>\n",
       "      <td>185</td>\n",
       "      <td>-0.199248</td>\n",
       "      <td>11</td>\n",
       "      <td>2</td>\n",
       "      <td>29</td>\n",
       "      <td>4</td>\n",
       "      <td>3</td>\n",
       "      <td>30</td>\n",
       "      <td>118</td>\n",
       "      <td>1</td>\n",
       "      <td>1</td>\n",
       "      <td>13</td>\n",
       "    </tr>\n",
       "    <tr>\n",
       "      <th>2</th>\n",
       "      <td>4</td>\n",
       "      <td>3</td>\n",
       "      <td>2021</td>\n",
       "      <td>3</td>\n",
       "      <td>8</td>\n",
       "      <td>51.486668</td>\n",
       "      <td>4</td>\n",
       "      <td>185</td>\n",
       "      <td>-0.179599</td>\n",
       "      <td>1</td>\n",
       "      <td>2</td>\n",
       "      <td>29</td>\n",
       "      <td>0</td>\n",
       "      <td>3</td>\n",
       "      <td>30</td>\n",
       "      <td>318</td>\n",
       "      <td>1</td>\n",
       "      <td>1</td>\n",
       "      <td>13</td>\n",
       "    </tr>\n",
       "    <tr>\n",
       "      <th>3</th>\n",
       "      <td>4</td>\n",
       "      <td>1</td>\n",
       "      <td>2021</td>\n",
       "      <td>1</td>\n",
       "      <td>8</td>\n",
       "      <td>51.507804</td>\n",
       "      <td>4</td>\n",
       "      <td>185</td>\n",
       "      <td>-0.203110</td>\n",
       "      <td>1</td>\n",
       "      <td>2</td>\n",
       "      <td>29</td>\n",
       "      <td>2</td>\n",
       "      <td>3</td>\n",
       "      <td>30</td>\n",
       "      <td>1329</td>\n",
       "      <td>1</td>\n",
       "      <td>3</td>\n",
       "      <td>9</td>\n",
       "    </tr>\n",
       "    <tr>\n",
       "      <th>4</th>\n",
       "      <td>4</td>\n",
       "      <td>5</td>\n",
       "      <td>2021</td>\n",
       "      <td>1</td>\n",
       "      <td>0</td>\n",
       "      <td>51.482076</td>\n",
       "      <td>1</td>\n",
       "      <td>185</td>\n",
       "      <td>-0.173445</td>\n",
       "      <td>1</td>\n",
       "      <td>2</td>\n",
       "      <td>29</td>\n",
       "      <td>0</td>\n",
       "      <td>3</td>\n",
       "      <td>30</td>\n",
       "      <td>504</td>\n",
       "      <td>1</td>\n",
       "      <td>1</td>\n",
       "      <td>2</td>\n",
       "    </tr>\n",
       "  </tbody>\n",
       "</table>\n",
       "</div>"
      ],
      "text/plain": [
       "   Month  Day_of_Week  Year  Junction_Control  Junction_Detail   Latitude  \\\n",
       "0      4            4  2021                 3                8  51.512273   \n",
       "1      4            1  2021                 3                0  51.514399   \n",
       "2      4            3  2021                 3                8  51.486668   \n",
       "3      4            1  2021                 1                8  51.507804   \n",
       "4      4            5  2021                 1                0  51.482076   \n",
       "\n",
       "   Light_Conditions  Local_Authority_(District)  Longitude  \\\n",
       "0                 4                         185  -0.201349   \n",
       "1                 4                         185  -0.199248   \n",
       "2                 4                         185  -0.179599   \n",
       "3                 4                         185  -0.203110   \n",
       "4                 1                         185  -0.173445   \n",
       "\n",
       "   Number_of_Casualties  Number_of_Vehicles  Police_Force  \\\n",
       "0                     1                   2            29   \n",
       "1                    11                   2            29   \n",
       "2                     1                   2            29   \n",
       "3                     1                   2            29   \n",
       "4                     1                   2            29   \n",
       "\n",
       "   Road_Surface_Conditions  Road_Type  Speed_limit  Time  Urban_or_Rural_Area  \\\n",
       "0                        0          1           30   370                    1   \n",
       "1                        4          3           30   118                    1   \n",
       "2                        0          3           30   318                    1   \n",
       "3                        2          3           30  1329                    1   \n",
       "4                        0          3           30   504                    1   \n",
       "\n",
       "   Weather_Conditions  Vehicle_Type  \n",
       "0                   1             2  \n",
       "1                   1            13  \n",
       "2                   1            13  \n",
       "3                   3             9  \n",
       "4                   1             2  "
      ]
     },
     "execution_count": 568,
     "metadata": {},
     "output_type": "execute_result"
    }
   ],
   "source": [
    "X.head()"
   ]
  },
  {
   "cell_type": "code",
   "execution_count": null,
   "id": "e8a19fda",
   "metadata": {},
   "outputs": [
    {
     "data": {
      "text/plain": [
       "0    1\n",
       "1    1\n",
       "2    2\n",
       "3    1\n",
       "4    1\n",
       "Name: Accident_Severity, dtype: int32"
      ]
     },
     "execution_count": 569,
     "metadata": {},
     "output_type": "execute_result"
    }
   ],
   "source": [
    "y.head()"
   ]
  },
  {
   "cell_type": "markdown",
   "id": "cb91d451",
   "metadata": {},
   "source": [
    "# Outlier"
   ]
  },
  {
   "cell_type": "code",
   "execution_count": null,
   "id": "37fcbf00",
   "metadata": {},
   "outputs": [],
   "source": [
    "def outliers(df, column):\n",
    "    Q1 = df[column].quantile(0.25)      \n",
    "    Q3 = df[column].quantile(0.75)       \n",
    "    IQR = Q3 - Q1                        \n",
    "    outlier_indices = df[\n",
    "        (df[column] < (Q1 - 1.5 * IQR)) | \n",
    "        (df[column] > (Q3 + 1.5 * IQR))\n",
    "    ].index                              \n",
    "    return outlier_indices"
   ]
  },
  {
   "cell_type": "code",
   "execution_count": null,
   "id": "32c18637",
   "metadata": {},
   "outputs": [
    {
     "name": "stdout",
     "output_type": "stream",
     "text": [
      "Month => outlier_idx : 0\n",
      "Day_of_Week => outlier_idx : 0\n",
      "Junction_Control => outlier_idx : 2145\n",
      "Junction_Detail => outlier_idx : 0\n",
      "Accident_Severity => outlier_idx : 44693\n",
      "Light_Conditions => outlier_idx : 63017\n",
      "Local_Authority_(District) => outlier_idx : 0\n",
      "Police_Force => outlier_idx : 0\n",
      "Road_Surface_Conditions => outlier_idx : 0\n",
      "Road_Type => outlier_idx : 75826\n",
      "Time => outlier_idx : 0\n",
      "Urban_or_Rural_Area => outlier_idx : 0\n",
      "Weather_Conditions => outlier_idx : 57419\n",
      "Vehicle_Type => outlier_idx : 68179\n"
     ]
    }
   ],
   "source": [
    "numeric_cols = ['Month', 'Day_of_Week', 'Junction_Control', 'Junction_Detail',\n",
    "       'Accident_Severity', 'Light_Conditions',\n",
    "       'Local_Authority_(District)',\n",
    "        'Police_Force', 'Road_Surface_Conditions',\n",
    "       'Road_Type', 'Time', 'Urban_or_Rural_Area',\n",
    "       'Weather_Conditions', 'Vehicle_Type']\n",
    "for col in numeric_cols:\n",
    "    outlier_idx = outliers(df, col)\n",
    "    print(f\"{col} => outlier_idx : {len(outlier_idx)}\")\n"
   ]
  },
  {
   "cell_type": "code",
   "execution_count": null,
   "id": "f5222fd9",
   "metadata": {},
   "outputs": [
    {
     "name": "stderr",
     "output_type": "stream",
     "text": [
      "C:\\Users\\OO7\\AppData\\Local\\Temp\\ipykernel_22700\\367054228.py:22: FutureWarning: \n",
      "\n",
      "Passing `palette` without assigning `hue` is deprecated and will be removed in v0.14.0. Assign the `x` variable to `hue` and set `legend=False` for the same effect.\n",
      "\n",
      "  sns.barplot(data=outlier_df, x='Feature', y='Outlier Count', palette='Reds_r')\n"
     ]
    },
    {
     "data": {
      "image/png": "[encoded data removed]",
      "text/plain": [
       "<Figure size 1200x600 with 1 Axes>"
      ]
     },
     "metadata": {},
     "output_type": "display_data"
    }
   ],
   "source": [
    "outlier_counts = {\n",
    "    'Junction_Control': 2145,\n",
    "    'Accident_Severity': 44693,\n",
    "    'Light_Conditions': 63017,\n",
    "    'Road_Type': 75826,\n",
    "    'Weather_Conditions': 57419,\n",
    "    'Vehicle_Type': 68179\n",
    "}\n",
    "import pandas as pd\n",
    "outlier_df = pd.DataFrame(list(outlier_counts.items()), columns=['Feature', 'Outlier Count'])\n",
    "outlier_df = outlier_df.sort_values(by='Outlier Count', ascending=False)\n",
    "\n",
    "plt.figure(figsize=(12,6))\n",
    "sns.barplot(data=outlier_df, x='Feature', y='Outlier Count', palette='Reds_r')\n",
    "plt.title('Number of Outliers per Feature')\n",
    "plt.xticks(rotation=45)\n",
    "plt.tight_layout()\n",
    "plt.show()\n"
   ]
  },
  {
   "cell_type": "code",
   "execution_count": null,
   "id": "c6a74e3a",
   "metadata": {},
   "outputs": [
    {
     "data": {
      "image/png": "[encoded data removed]",
      "text/plain": [
       "<Figure size 1200x500 with 2 Axes>"
      ]
     },
     "metadata": {},
     "output_type": "display_data"
    }
   ],
   "source": [
    "\n",
    "df_numeric = df.copy()\n",
    "df_numeric['Vehicle_Type'] = df_numeric['Vehicle_Type'].astype('category').cat.codes\n",
    "df_numeric['Road_Type'] = df_numeric['Road_Type'].astype('category').cat.codes\n",
    "plt.figure(figsize=(12,5))\n",
    "plt.subplot(1,2,1)\n",
    "sns.boxplot(y=df_numeric['Road_Type'], color='skyblue')\n",
    "plt.title('Boxplot of Road_Type')\n",
    "plt.subplot(1,2,2)\n",
    "sns.boxplot(y=df_numeric['Vehicle_Type'], color='salmon')\n",
    "plt.title('Boxplot of Vehicle_Type')\n",
    "plt.tight_layout()\n",
    "plt.show()\n"
   ]
  },
  {
   "cell_type": "code",
   "execution_count": null,
   "id": "ff754a7d",
   "metadata": {},
   "outputs": [],
   "source": [
    "def remove_outliers(df, column):\n",
    "    Q1 = df[column].quantile(0.25)\n",
    "    Q3 = df[column].quantile(0.75)\n",
    "    IQR = Q3 - Q1\n",
    "    lower_bound = Q1 - 1.5 * IQR\n",
    "    upper_bound = Q3 + 1.5 * IQR\n",
    "\n",
    "    df = df[(df[column] >= lower_bound) & (df[column] <= upper_bound)]\n",
    "    return df"
   ]
  },
  {
   "cell_type": "code",
   "execution_count": null,
   "id": "b35cc939",
   "metadata": {},
   "outputs": [],
   "source": [
    "cols_with_outliers = ['Junction_Control', 'Accident_Severity',\n",
    "                      'Light_Conditions', 'Road_Type', 'Weather_Conditions', 'Vehicle_Type','Road_Surface_Conditions']\n",
    "\n",
    "for col in cols_with_outliers:\n",
    "    df = remove_outliers(df, col)\n"
   ]
  },
  {
   "cell_type": "code",
   "execution_count": null,
   "id": "e0ef36d2",
   "metadata": {},
   "outputs": [
    {
     "name": "stdout",
     "output_type": "stream",
     "text": [
      "Month => outlier_idx : 0\n",
      "Day_of_Week => outlier_idx : 0\n",
      "Junction_Control => outlier_idx : 0\n",
      "Junction_Detail => outlier_idx : 0\n",
      "Accident_Severity => outlier_idx : 0\n",
      "Light_Conditions => outlier_idx : 3015\n",
      "Local_Authority_(District) => outlier_idx : 0\n",
      "Police_Force => outlier_idx : 0\n",
      "Road_Surface_Conditions => outlier_idx : 0\n",
      "Road_Type => outlier_idx : 0\n",
      "Time => outlier_idx : 16055\n",
      "Urban_or_Rural_Area => outlier_idx : 0\n",
      "Weather_Conditions => outlier_idx : 0\n",
      "Vehicle_Type => outlier_idx : 0\n"
     ]
    }
   ],
   "source": [
    "numeric_cols = ['Month', 'Day_of_Week', 'Junction_Control', 'Junction_Detail',\n",
    "       'Accident_Severity', 'Light_Conditions',\n",
    "       'Local_Authority_(District)',\n",
    "        'Police_Force', 'Road_Surface_Conditions',\n",
    "       'Road_Type', 'Time', 'Urban_or_Rural_Area',\n",
    "       'Weather_Conditions', 'Vehicle_Type']\n",
    "for col in numeric_cols:\n",
    "    outlier_idx = outliers(df, col)\n",
    "    print(f\"{col} => outlier_idx : {len(outlier_idx)}\")"
   ]
  },
  {
   "cell_type": "markdown",
   "id": "9b93f3e9",
   "metadata": {},
   "source": [
    "# Scaling"
   ]
  },
  {
   "cell_type": "code",
   "execution_count": null,
   "id": "106ffffd",
   "metadata": {},
   "outputs": [
    {
     "data": {
      "text/plain": [
       "(0.0, 1.0)"
      ]
     },
     "execution_count": 577,
     "metadata": {},
     "output_type": "execute_result"
    }
   ],
   "source": [
    "# 1. First ensure all features are numeric\n",
    "print(\"Checking data types before normalization:\")\n",
    "print(X.dtypes)  # If X is numpy array, check df.dtypes before splitting\n",
    "\n",
    "# 2. Convert time strings to numerical features (if present)\n",
    "if 'Time' in df.columns:\n",
    "    df['Hour'] = pd.to_datetime(df['Time']).dt.hour\n",
    "    df['Minute'] = pd.to_datetime(df['Time']).dt.minute\n",
    "    df.drop('Time', axis=1, inplace=True)\n",
    "\n",
    "# 3. Ensure all categorical columns are label encoded\n",
    "categorical_cols = X.select_dtypes(include=['object', 'category']).columns\n",
    "if len(categorical_cols) > 0:\n",
    "    print(\"\\nLabel encoding categorical columns:\", list(categorical_cols))\n",
    "    le = LabelEncoder()\n",
    "    for col in categorical_cols:\n",
    "        X[col] = le.fit_transform(X[col])\n",
    "\n",
    "# 4. Now normalize\n",
    "scaler = MinMaxScaler(feature_range=(0, 1))\n",
    "X = scaler.fit_transform(X)\n",
    "X.min(), X.max()"
   ]
  },
  {
   "cell_type": "markdown",
   "id": "7aab11c0",
   "metadata": {},
   "source": [
    "# Spliting"
   ]
  },
  {
   "cell_type": "code",
   "execution_count": null,
   "id": "6054c8fc",
   "metadata": {},
   "outputs": [],
   "source": [
    "X_train, X_test, y_train, y_test =train_test_split(X,y, test_size= 0.20, random_state=100, stratify=y)"
   ]
  },
  {
   "cell_type": "code",
   "execution_count": null,
   "id": "78ddfa3b",
   "metadata": {},
   "outputs": [
    {
     "name": "stdout",
     "output_type": "stream",
     "text": [
      "X_train shape:  (246374, 19)\n",
      "X_test shape:  (61594, 19)\n",
      "y_train shape:  (246374,)\n",
      "y_test shape:  (61594,)\n"
     ]
    }
   ],
   "source": [
    "print(\"X_train shape: \", X_train.shape)\n",
    "print(\"X_test shape: \", X_test.shape)   \n",
    "print(\"y_train shape: \", y_train.shape)\n",
    "print(\"y_test shape: \", y_test.shape)"
   ]
  },
  {
   "cell_type": "code",
   "execution_count": null,
   "id": "1378943c",
   "metadata": {},
   "outputs": [],
   "source": [
    "from sklearn.linear_model import LogisticRegression\n",
    "from sklearn.naive_bayes import GaussianNB\n",
    "from sklearn.neighbors import KNeighborsClassifier\n",
    "from sklearn.ensemble import RandomForestClassifier\n",
    "from sklearn.svm import SVC\n",
    "from sklearn.tree import DecisionTreeClassifier\n",
    "from sklearn.metrics import accuracy_score, precision_score, recall_score, f1_score\n",
    "from tqdm import tqdm\n",
    "\n",
    "Models = {'LogisticRegression': LogisticRegression(),'GaussianNB': GaussianNB(),\n",
    "    #'KNeighborsClassifier': KNeighborsClassifier(),\n",
    "    #'RandomForestClassifier': RandomForestClassifier(n_estimators=50,max_depth=15,max_samples=0.5,n_jobs=-1,random_state=42),\n",
    "    #'SVC': SVC(),\n",
    "    #'DecisionTreeClassifier': DecisionTreeClassifier()\n",
    "    }"
   ]
  },
  {
   "cell_type": "code",
   "execution_count": null,
   "id": "b8d7b917",
   "metadata": {},
   "outputs": [
    {
     "name": "stderr",
     "output_type": "stream",
     "text": [
      "  0%|          | 0/2 [00:00<?, ?it/s]c:\\Users\\OO7\\anaconda3\\envs\\tf_env\\lib\\site-packages\\sklearn\\linear_model\\_logistic.py:460: ConvergenceWarning: lbfgs failed to converge (status=1):\n",
      "STOP: TOTAL NO. OF ITERATIONS REACHED LIMIT.\n",
      "\n",
      "Increase the number of iterations (max_iter) or scale the data as shown in:\n",
      "    https://scikit-learn.org/stable/modules/preprocessing.html\n",
      "Please also refer to the documentation for alternative solver options:\n",
      "    https://scikit-learn.org/stable/modules/linear_model.html#logistic-regression\n",
      "  n_iter_i = _check_optimize_result(\n",
      "c:\\Users\\OO7\\anaconda3\\envs\\tf_env\\lib\\site-packages\\sklearn\\metrics\\_classification.py:1471: UndefinedMetricWarning: Precision is ill-defined and being set to 0.0 in labels with no predicted samples. Use `zero_division` parameter to control this behavior.\n",
      "  _warn_prf(average, modifier, msg_start, len(result))\n",
      "100%|██████████| 2/2 [00:04<00:00,  2.43s/it]\n"
     ]
    },
    {
     "data": {
      "application/vnd.microsoft.datawrangler.viewer.v0+json": {
       "columns": [
        {
         "name": "index",
         "rawType": "object",
         "type": "string"
        },
        {
         "name": "Accuracy",
         "rawType": "float64",
         "type": "float"
        },
        {
         "name": "Precision",
         "rawType": "float64",
         "type": "float"
        },
        {
         "name": "Recall",
         "rawType": "float64",
         "type": "float"
        },
        {
         "name": "F1 Score",
         "rawType": "float64",
         "type": "float"
        }
       ],
       "conversionMethod": "pd.DataFrame",
       "ref": "4855fbed-7612-45ff-970a-a8507f8dabc2",
       "rows": [
        [
         "LogisticRegression",
         "0.854758580381206",
         "0.7661079981586613",
         "0.854758580381206",
         "0.788054317346632"
        ],
        [
         "GaussianNB",
         "0.8355034581290386",
         "0.7655993985437967",
         "0.8355034581290386",
         "0.7858326313162797"
        ]
       ],
       "shape": {
        "columns": 4,
        "rows": 2
       }
      },
      "text/html": [
       "<div>\n",
       "<style scoped>\n",
       "    .dataframe tbody tr th:only-of-type {\n",
       "        vertical-align: middle;\n",
       "    }\n",
       "\n",
       "    .dataframe tbody tr th {\n",
       "        vertical-align: top;\n",
       "    }\n",
       "\n",
       "    .dataframe thead th {\n",
       "        text-align: right;\n",
       "    }\n",
       "</style>\n",
       "<table border=\"1\" class=\"dataframe\">\n",
       "  <thead>\n",
       "    <tr style=\"text-align: right;\">\n",
       "      <th></th>\n",
       "      <th>Accuracy</th>\n",
       "      <th>Precision</th>\n",
       "      <th>Recall</th>\n",
       "      <th>F1 Score</th>\n",
       "    </tr>\n",
       "  </thead>\n",
       "  <tbody>\n",
       "    <tr>\n",
       "      <th>LogisticRegression</th>\n",
       "      <td>0.854759</td>\n",
       "      <td>0.766108</td>\n",
       "      <td>0.854759</td>\n",
       "      <td>0.788054</td>\n",
       "    </tr>\n",
       "    <tr>\n",
       "      <th>GaussianNB</th>\n",
       "      <td>0.835503</td>\n",
       "      <td>0.765599</td>\n",
       "      <td>0.835503</td>\n",
       "      <td>0.785833</td>\n",
       "    </tr>\n",
       "  </tbody>\n",
       "</table>\n",
       "</div>"
      ],
      "text/plain": [
       "                    Accuracy  Precision    Recall  F1 Score\n",
       "LogisticRegression  0.854759   0.766108  0.854759  0.788054\n",
       "GaussianNB          0.835503   0.765599  0.835503  0.785833"
      ]
     },
     "execution_count": 581,
     "metadata": {},
     "output_type": "execute_result"
    }
   ],
   "source": [
    "ModelName = []\n",
    "ModelAccuracy = []\n",
    "\n",
    "for nameModel, model in tqdm(Models.items()):\n",
    "    model.fit(X_train, y_train)\n",
    "    ModelName.append(nameModel)\n",
    "    y_pred = model.predict(X_test)\n",
    "    ModelAccuracy.append([\n",
    "        accuracy_score(y_test, y_pred),\n",
    "        precision_score(y_test, y_pred, average='weighted'),\n",
    "        recall_score(y_test, y_pred, average='weighted'),\n",
    "        f1_score(y_test, y_pred, average='weighted')\n",
    "    ])\n",
    "\n",
    "Model_accuracy = pd.DataFrame(ModelAccuracy, index=ModelName, columns=['Accuracy', 'Precision', 'Recall', 'F1 Score'])\n",
    "Model_accuracy"
   ]
  },
  {
   "cell_type": "code",
   "execution_count": null,
   "id": "fbb8040f",
   "metadata": {},
   "outputs": [],
   "source": [
    "#print(\"Confusion Matrix: \\n\", confusion_matrix(y_test, y_pred))"
   ]
  },
  {
   "cell_type": "markdown",
   "id": "a6687b76",
   "metadata": {},
   "source": [
    "0 = Severe\n",
    "\n",
    "1 = Serious\n",
    "\n",
    "2 = Slight"
   ]
  },
  {
   "cell_type": "code",
   "execution_count": null,
   "id": "1d715ba7",
   "metadata": {},
   "outputs": [
    {
     "data": {
      "text/plain": [
       "<Figure size 800x600 with 0 Axes>"
      ]
     },
     "metadata": {},
     "output_type": "display_data"
    },
    {
     "data": {
      "image/png": "[encoded data removed]",
      "text/plain": [
       "<Figure size 800x600 with 2 Axes>"
      ]
     },
     "metadata": {},
     "output_type": "display_data"
    }
   ],
   "source": [
    "plt.figure(figsize=(8, 6))\n",
    "cm = confusion_matrix(y_test, y_pred)\n",
    "labels = ['Low Severity', 'Medium Severity', 'High Severity']\n",
    "plt.figure(figsize=(8, 6))\n",
    "sns.heatmap(cm, annot=True, fmt='d', cmap='Blues', xticklabels=labels, yticklabels=labels)\n",
    "plt.title('Confusion Matrix')\n",
    "plt.xlabel('Predicted Labels')\n",
    "plt.ylabel('True Labels')\n",
    "plt.show()"
   ]
  },
  {
   "cell_type": "code",
   "execution_count": null,
   "id": "f56f5983",
   "metadata": {},
   "outputs": [
    {
     "data": {
      "image/png": "[encoded data removed]",
      "text/plain": [
       "<Figure size 1000x600 with 1 Axes>"
      ]
     },
     "metadata": {},
     "output_type": "display_data"
    }
   ],
   "source": [
    "Model_accuracy.plot(kind='bar', figsize=(10, 6))\n",
    "\n",
    "plt.xlabel('Model')\n",
    "plt.ylabel('Scores')\n",
    "plt.title('Model Accuracy Scores')\n",
    "plt.xticks(rotation=45)  \n",
    "plt.legend(loc='upper right')\n",
    "plt.tight_layout() \n",
    "plt.show()"
   ]
  },
  {
   "cell_type": "markdown",
   "id": "2e88bab8",
   "metadata": {},
   "source": [
    "# imbalance Data(SOMTE)\n"
   ]
  },
  {
   "cell_type": "code",
   "execution_count": null,
   "id": "233bef23",
   "metadata": {},
   "outputs": [
    {
     "data": {
      "text/plain": [
       "<Axes: title={'center': 'Accident_Severity'}, xlabel='Accident_Severity'>"
      ]
     },
     "execution_count": 585,
     "metadata": {},
     "output_type": "execute_result"
    },
    {
     "data": {
      "image/png": "[encoded data removed]",
      "text/plain": [
       "<Figure size 640x480 with 1 Axes>"
      ]
     },
     "metadata": {},
     "output_type": "display_data"
    }
   ],
   "source": [
    "y.value_counts().plot.bar(title=\"Accident_Severity\")"
   ]
  },
  {
   "cell_type": "code",
   "execution_count": null,
   "id": "34b10af3",
   "metadata": {},
   "outputs": [
    {
     "name": "stdout",
     "output_type": "stream",
     "text": [
      "Accident_Severity        : \n",
      " Accident_Severity\n",
      "2    263275\n",
      "1     40740\n",
      "0      3953\n",
      "Name: count, dtype: int64\n",
      "\n",
      "\n",
      "Accident_Severity\n",
      "2    0.854878\n",
      "1    0.132286\n",
      "0    0.012836\n",
      "Name: proportion, dtype: float64\n"
     ]
    }
   ],
   "source": [
    "print(\"Accident_Severity        : \\n\",y.value_counts())\n",
    "print(\"\\n\")\n",
    "print(y.value_counts(normalize=True))"
   ]
  },
  {
   "cell_type": "code",
   "execution_count": null,
   "id": "d26a9406",
   "metadata": {},
   "outputs": [],
   "source": [
    "from imblearn.over_sampling import SMOTE\n",
    "sm=SMOTE(random_state=42)"
   ]
  },
  {
   "cell_type": "code",
   "execution_count": null,
   "id": "e3d3ee6c",
   "metadata": {},
   "outputs": [],
   "source": [
    "X,y=sm.fit_resample(X,y)"
   ]
  },
  {
   "cell_type": "code",
   "execution_count": null,
   "id": "be92baac",
   "metadata": {},
   "outputs": [
    {
     "data": {
      "text/plain": [
       "(789825, 19)"
      ]
     },
     "execution_count": 589,
     "metadata": {},
     "output_type": "execute_result"
    }
   ],
   "source": [
    "X.shape"
   ]
  },
  {
   "cell_type": "code",
   "execution_count": null,
   "id": "0bc3e8d5",
   "metadata": {},
   "outputs": [
    {
     "data": {
      "text/plain": [
       "(789825,)"
      ]
     },
     "execution_count": 590,
     "metadata": {},
     "output_type": "execute_result"
    }
   ],
   "source": [
    "y.shape"
   ]
  },
  {
   "cell_type": "code",
   "execution_count": null,
   "id": "59ec2698",
   "metadata": {},
   "outputs": [
    {
     "name": "stdout",
     "output_type": "stream",
     "text": [
      "Accident_Severity        : \n",
      " Accident_Severity\n",
      "1    263275\n",
      "2    263275\n",
      "0    263275\n",
      "Name: count, dtype: int64\n",
      "\n",
      "\n",
      "Accident_Severity\n",
      "1    0.333333\n",
      "2    0.333333\n",
      "0    0.333333\n",
      "Name: proportion, dtype: float64\n"
     ]
    }
   ],
   "source": [
    "print(\"Accident_Severity        : \\n\",y.value_counts())\n",
    "print(\"\\n\")\n",
    "print(y.value_counts(normalize=True))"
   ]
  },
  {
   "cell_type": "code",
   "execution_count": null,
   "id": "543a1106",
   "metadata": {},
   "outputs": [
    {
     "data": {
      "text/plain": [
       "<Axes: title={'center': 'Accident_Severity'}, xlabel='Accident_Severity'>"
      ]
     },
     "execution_count": 592,
     "metadata": {},
     "output_type": "execute_result"
    },
    {
     "data": {
      "image/png": "[encoded data removed]",
      "text/plain": [
       "<Figure size 640x480 with 1 Axes>"
      ]
     },
     "metadata": {},
     "output_type": "display_data"
    }
   ],
   "source": [
    "y.value_counts().plot.bar(title=\"Accident_Severity\")"
   ]
  },
  {
   "cell_type": "code",
   "execution_count": null,
   "id": "7338a0fa",
   "metadata": {},
   "outputs": [],
   "source": [
    "X_train, X_test, y_train, y_test =train_test_split(X,y, test_size= 0.20, random_state=100, stratify=y)"
   ]
  },
  {
   "cell_type": "markdown",
   "id": "a256b9cb",
   "metadata": {},
   "source": [
    "# Modeling"
   ]
  },
  {
   "cell_type": "code",
   "execution_count": null,
   "id": "566b9aed",
   "metadata": {},
   "outputs": [],
   "source": [
    "from sklearn.linear_model import LogisticRegression\n",
    "from sklearn.naive_bayes import GaussianNB\n",
    "from sklearn.neighbors import KNeighborsClassifier\n",
    "from sklearn.ensemble import RandomForestClassifier\n",
    "from sklearn.svm import SVC\n",
    "from sklearn.tree import DecisionTreeClassifier\n",
    "from sklearn.metrics import accuracy_score, precision_score, recall_score, f1_score\n",
    "from tqdm import tqdm\n",
    "\n",
    "Modelss = {\n",
    "    'LogisticRegression': LogisticRegression(),\n",
    "    'GaussianNB': GaussianNB(),\n",
    "    #'KNeighborsClassifier': KNeighborsClassifier(),\n",
    "    #'RandomForestClassifier': RandomForestClassifier(n_estimators=50,max_depth=15,max_samples=0.5,n_jobs=-1,random_state=42),\n",
    "    #'SVC': SVC(),\n",
    "    #'DecisionTreeClassifier': DecisionTreeClassifier()\n",
    "    \n",
    "}"
   ]
  },
  {
   "cell_type": "code",
   "execution_count": null,
   "id": "0415bc19",
   "metadata": {},
   "outputs": [
    {
     "name": "stderr",
     "output_type": "stream",
     "text": [
      "  0%|          | 0/2 [00:00<?, ?it/s]c:\\Users\\OO7\\anaconda3\\envs\\tf_env\\lib\\site-packages\\sklearn\\linear_model\\_logistic.py:460: ConvergenceWarning: lbfgs failed to converge (status=1):\n",
      "STOP: TOTAL NO. OF ITERATIONS REACHED LIMIT.\n",
      "\n",
      "Increase the number of iterations (max_iter) or scale the data as shown in:\n",
      "    https://scikit-learn.org/stable/modules/preprocessing.html\n",
      "Please also refer to the documentation for alternative solver options:\n",
      "    https://scikit-learn.org/stable/modules/linear_model.html#logistic-regression\n",
      "  n_iter_i = _check_optimize_result(\n",
      "100%|██████████| 2/2 [00:13<00:00,  6.74s/it]\n"
     ]
    },
    {
     "data": {
      "application/vnd.microsoft.datawrangler.viewer.v0+json": {
       "columns": [
        {
         "name": "index",
         "rawType": "object",
         "type": "string"
        },
        {
         "name": "Accuracy",
         "rawType": "float64",
         "type": "float"
        },
        {
         "name": "Precision",
         "rawType": "float64",
         "type": "float"
        },
        {
         "name": "Recall",
         "rawType": "float64",
         "type": "float"
        },
        {
         "name": "F1 Score",
         "rawType": "float64",
         "type": "float"
        }
       ],
       "conversionMethod": "pd.DataFrame",
       "ref": "0929f4d6-96e6-44ff-aa2d-1314ac26d7ed",
       "rows": [
        [
         "LogisticRegression",
         "0.47081315481277497",
         "0.46355908412339997",
         "0.47081315481277497",
         "0.46257779309347197"
        ],
        [
         "GaussianNB",
         "0.46365967144620646",
         "0.4628579870619217",
         "0.46365967144620646",
         "0.46296267444974926"
        ]
       ],
       "shape": {
        "columns": 4,
        "rows": 2
       }
      },
      "text/html": [
       "<div>\n",
       "<style scoped>\n",
       "    .dataframe tbody tr th:only-of-type {\n",
       "        vertical-align: middle;\n",
       "    }\n",
       "\n",
       "    .dataframe tbody tr th {\n",
       "        vertical-align: top;\n",
       "    }\n",
       "\n",
       "    .dataframe thead th {\n",
       "        text-align: right;\n",
       "    }\n",
       "</style>\n",
       "<table border=\"1\" class=\"dataframe\">\n",
       "  <thead>\n",
       "    <tr style=\"text-align: right;\">\n",
       "      <th></th>\n",
       "      <th>Accuracy</th>\n",
       "      <th>Precision</th>\n",
       "      <th>Recall</th>\n",
       "      <th>F1 Score</th>\n",
       "    </tr>\n",
       "  </thead>\n",
       "  <tbody>\n",
       "    <tr>\n",
       "      <th>LogisticRegression</th>\n",
       "      <td>0.470813</td>\n",
       "      <td>0.463559</td>\n",
       "      <td>0.470813</td>\n",
       "      <td>0.462578</td>\n",
       "    </tr>\n",
       "    <tr>\n",
       "      <th>GaussianNB</th>\n",
       "      <td>0.463660</td>\n",
       "      <td>0.462858</td>\n",
       "      <td>0.463660</td>\n",
       "      <td>0.462963</td>\n",
       "    </tr>\n",
       "  </tbody>\n",
       "</table>\n",
       "</div>"
      ],
      "text/plain": [
       "                    Accuracy  Precision    Recall  F1 Score\n",
       "LogisticRegression  0.470813   0.463559  0.470813  0.462578\n",
       "GaussianNB          0.463660   0.462858  0.463660  0.462963"
      ]
     },
     "execution_count": 595,
     "metadata": {},
     "output_type": "execute_result"
    }
   ],
   "source": [
    "ModelName = []\n",
    "ModelAccuracy = []\n",
    "\n",
    "for nameModel, model in tqdm(Modelss.items()):\n",
    "    model.fit(X_train, y_train)\n",
    "    ModelName.append(nameModel)\n",
    "    y_pred = model.predict(X_test)\n",
    "    ModelAccuracy.append([\n",
    "        accuracy_score(y_test, y_pred),\n",
    "        precision_score(y_test, y_pred, average='weighted'),\n",
    "        recall_score(y_test, y_pred, average='weighted'),\n",
    "        f1_score(y_test, y_pred, average='weighted')\n",
    "    ])\n",
    "\n",
    "Model_accuracy = pd.DataFrame(ModelAccuracy, index=ModelName, columns=['Accuracy', 'Precision', 'Recall', 'F1 Score'])\n",
    "Model_accuracy"
   ]
  },
  {
   "cell_type": "code",
   "execution_count": null,
   "id": "ee6f0dc8",
   "metadata": {},
   "outputs": [
    {
     "data": {
      "text/plain": [
       "<Figure size 800x600 with 0 Axes>"
      ]
     },
     "metadata": {},
     "output_type": "display_data"
    },
    {
     "data": {
      "image/png": "[encoded data removed]",
      "text/plain": [
       "<Figure size 800x600 with 2 Axes>"
      ]
     },
     "metadata": {},
     "output_type": "display_data"
    }
   ],
   "source": [
    "plt.figure(figsize=(8, 6))\n",
    "cm = confusion_matrix(y_test, y_pred)\n",
    "labels = ['Low Severity', 'Medium Severity', 'High Severity']\n",
    "plt.figure(figsize=(8, 6))\n",
    "sns.heatmap(cm, annot=True, fmt='d', cmap='Blues', xticklabels=labels, yticklabels=labels)\n",
    "plt.title('Confusion Matrix')\n",
    "plt.xlabel('Predicted Labels')\n",
    "plt.ylabel('True Labels')\n",
    "plt.show()"
   ]
  },
  {
   "cell_type": "markdown",
   "id": "ea265a8f",
   "metadata": {},
   "source": [
    "# imbalance Data\n"
   ]
  },
  {
   "cell_type": "code",
   "execution_count": null,
   "id": "075be250",
   "metadata": {},
   "outputs": [
    {
     "name": "stderr",
     "output_type": "stream",
     "text": [
      "c:\\Users\\OO7\\anaconda3\\envs\\tf_env\\lib\\site-packages\\sklearn\\linear_model\\_logistic.py:460: ConvergenceWarning: lbfgs failed to converge (status=1):\n",
      "STOP: TOTAL NO. OF ITERATIONS REACHED LIMIT.\n",
      "\n",
      "Increase the number of iterations (max_iter) or scale the data as shown in:\n",
      "    https://scikit-learn.org/stable/modules/preprocessing.html\n",
      "Please also refer to the documentation for alternative solver options:\n",
      "    https://scikit-learn.org/stable/modules/linear_model.html#logistic-regression\n",
      "  n_iter_i = _check_optimize_result(\n"
     ]
    },
    {
     "name": "stdout",
     "output_type": "stream",
     "text": [
      "توزيع الفئات قبل SMOTE: Accident_Severity\n",
      "2    210638\n",
      "0    210632\n",
      "1    210590\n",
      "Name: count, dtype: int64\n",
      "توزيع الفئات بعد SMOTE: Accident_Severity\n",
      "1    210638\n",
      "2    210638\n",
      "0    210638\n",
      "Name: count, dtype: int64\n",
      "\n",
      "دقة النموذج: 0.47\n",
      "\n",
      "تقرير التصنيف:\n",
      "               precision    recall  f1-score   support\n",
      "\n",
      "           0       0.50      0.58      0.54     52643\n",
      "           1       0.41      0.30      0.35     52685\n",
      "           2       0.48      0.54      0.51     52637\n",
      "\n",
      "    accuracy                           0.47    157965\n",
      "   macro avg       0.47      0.47      0.47    157965\n",
      "weighted avg       0.47      0.47      0.47    157965\n",
      "\n",
      "\n",
      "مصفوفة الارتباك:\n",
      " [[30410 10835 11398]\n",
      " [17454 15734 19497]\n",
      " [12664 11351 28622]]\n"
     ]
    }
   ],
   "source": [
    "import pandas as pd\n",
    "from sklearn.model_selection import train_test_split\n",
    "from imblearn.over_sampling import SMOTE\n",
    "from sklearn.linear_model import LogisticRegression\n",
    "from sklearn.metrics import classification_report, confusion_matrix\n",
    "\n",
    "# 1. تقسيم البيانات إلى تدريب واختبار (قبل أي موازنة)\n",
    "X_train, X_test, y_train, y_test = train_test_split(X, y, test_size=0.2, random_state=42)\n",
    "\n",
    "# 2. تطبيق SMOTE على بيانات التدريب فقط (لتجنب Data Leakage)\n",
    "smote = SMOTE(sampling_strategy='auto', random_state=42)\n",
    "X_resampled, y_resampled = smote.fit_resample(X_train, y_train)\n",
    "\n",
    "# 3. تدريب النموذج على البيانات الموزونة\n",
    "model = LogisticRegression(class_weight='balanced', random_state=42)\n",
    "model.fit(X_resampled, y_resampled)\n",
    "\n",
    "# 4. التقييم على بيانات الاختبار (التي لم تُوازَن)\n",
    "y_pred = model.predict(X_test)\n",
    "\n",
    "# 5. طباعة النتائج\n",
    "print(\"توزيع الفئات قبل SMOTE:\", pd.Series(y_train).value_counts())\n",
    "print(\"توزيع الفئات بعد SMOTE:\", pd.Series(y_resampled).value_counts())\n",
    "accuracy_score = accuracy_score(y_test, y_pred)\n",
    "print(f\"\\nدقة النموذج: {accuracy_score:.2f}\")\n",
    "print(\"\\nتقرير التصنيف:\\n\", classification_report(y_test, y_pred))\n",
    "print(\"\\nمصفوفة الارتباك:\\n\", confusion_matrix(y_test, y_pred))"
   ]
  },
  {
   "cell_type": "code",
   "execution_count": null,
   "id": "fb63ccb8",
   "metadata": {},
   "outputs": [],
   "source": [
    "scaler = StandardScaler()\n",
    "X_scaled = scaler.fit_transform(X)"
   ]
  },
  {
   "cell_type": "code",
   "execution_count": null,
   "id": "358e06f3",
   "metadata": {},
   "outputs": [],
   "source": [
    "from sklearn.cluster import KMeans, AgglomerativeClustering\n",
    "kmeans = KMeans(n_clusters=3, n_init='auto', random_state=42)\n",
    "kmeans_labels = kmeans.fit_predict(X_scaled)"
   ]
  },
  {
   "cell_type": "code",
   "execution_count": null,
   "id": "bf7750a3",
   "metadata": {},
   "outputs": [
    {
     "ename": "TypeError",
     "evalue": "'numpy.float64' object is not callable",
     "output_type": "error",
     "traceback": [
      "\u001b[1;31m---------------------------------------------------------------------------\u001b[0m",
      "\u001b[1;31mTypeError\u001b[0m                                 Traceback (most recent call last)",
      "Cell \u001b[1;32mIn[600], line 1\u001b[0m\n\u001b[1;32m----> 1\u001b[0m acc1 \u001b[38;5;241m=\u001b[39m \u001b[43maccuracy_score\u001b[49m\u001b[43m(\u001b[49m\u001b[43my\u001b[49m\u001b[43m,\u001b[49m\u001b[43m \u001b[49m\u001b[43mkmeans_labels\u001b[49m\u001b[43m)\u001b[49m\n\u001b[0;32m      2\u001b[0m acc1\n",
      "\u001b[1;31mTypeError\u001b[0m: 'numpy.float64' object is not callable"
     ]
    }
   ],
   "source": [
    "acc1 = accuracy_score(y, kmeans_labels)\n",
    "acc1"
   ]
  },
  {
   "cell_type": "code",
   "execution_count": null,
   "id": "ba328d0c",
   "metadata": {},
   "outputs": [],
   "source": [
    "acc1 = accuracy_score(y, kmeans_labels)\n",
    "acc2 = accuracy_score(y, 1 - kmeans_labels)"
   ]
  },
  {
   "cell_type": "code",
   "execution_count": null,
   "id": "c2cc4ad7",
   "metadata": {},
   "outputs": [
    {
     "name": "stdout",
     "output_type": "stream",
     "text": [
      "K-Means Accuracy: 0.38706294160432253\n"
     ]
    }
   ],
   "source": [
    "kmeans_accuracy = max(acc1, acc2)\n",
    "print(\"K-Means Accuracy:\", kmeans_accuracy)"
   ]
  },
  {
   "cell_type": "code",
   "execution_count": null,
   "id": "901c1afe",
   "metadata": {},
   "outputs": [
    {
     "name": "stdout",
     "output_type": "stream",
     "text": [
      "Silhouette Score (sample): 0.06598215392261361\n"
     ]
    }
   ],
   "source": [
    "from sklearn.metrics import silhouette_score\n",
    "from sklearn.utils import resample\n",
    "X_sample, labels_sample = resample(X_scaled, kmeans_labels, n_samples=5000, random_state=42)\n",
    "score = silhouette_score(X_sample, labels_sample)\n",
    "print(f\"Silhouette Score (sample): {score}\")"
   ]
  },
  {
   "cell_type": "code",
   "execution_count": null,
   "id": "0f8199a3",
   "metadata": {},
   "outputs": [
    {
     "name": "stdout",
     "output_type": "stream",
     "text": [
      "=== KMeans Results ===\n",
      "Accuracy: 0.38706294160432253\n"
     ]
    },
    {
     "ename": "NameError",
     "evalue": "name 'kmeans_inertia' is not defined",
     "output_type": "error",
     "traceback": [
      "\u001b[1;31m---------------------------------------------------------------------------\u001b[0m",
      "\u001b[1;31mNameError\u001b[0m                                 Traceback (most recent call last)",
      "Cell \u001b[1;32mIn[302], line 3\u001b[0m\n\u001b[0;32m      1\u001b[0m \u001b[38;5;28mprint\u001b[39m(\u001b[38;5;124m\"\u001b[39m\u001b[38;5;124m=== KMeans Results ===\u001b[39m\u001b[38;5;124m\"\u001b[39m)\n\u001b[0;32m      2\u001b[0m \u001b[38;5;28mprint\u001b[39m(\u001b[38;5;124m\"\u001b[39m\u001b[38;5;124mAccuracy:\u001b[39m\u001b[38;5;124m\"\u001b[39m, kmeans_accuracy)\n\u001b[1;32m----> 3\u001b[0m \u001b[38;5;28mprint\u001b[39m(\u001b[38;5;124m\"\u001b[39m\u001b[38;5;124mInertia:\u001b[39m\u001b[38;5;124m\"\u001b[39m, \u001b[43mkmeans_inertia\u001b[49m)\n\u001b[0;32m      4\u001b[0m \u001b[38;5;28mprint\u001b[39m(\u001b[38;5;124m\"\u001b[39m\u001b[38;5;124mSilhouette Score:\u001b[39m\u001b[38;5;124m\"\u001b[39m, kmeans_silhouette)\n",
      "\u001b[1;31mNameError\u001b[0m: name 'kmeans_inertia' is not defined"
     ]
    }
   ],
   "source": [
    "print(\"=== KMeans Results ===\")\n",
    "print(\"Accuracy:\", kmeans_accuracy)\n",
    "print(\"Inertia:\", kmeans_inertia)\n",
    "print(\"Silhouette Score:\", kmeans_silhouette)"
   ]
  },
  {
   "cell_type": "code",
   "execution_count": null,
   "id": "deac4ff3",
   "metadata": {},
   "outputs": [],
   "source": [
    "from sklearn.cluster import AgglomerativeClustering\n",
    "hierarchical = AgglomerativeClustering(n_clusters=3)\n",
    "hierarchical_labels = hierarchical.fit_predict(X_scaled)"
   ]
  },
  {
   "cell_type": "code",
   "execution_count": null,
   "id": "314ac1fd",
   "metadata": {},
   "outputs": [],
   "source": [
    "acc1 = accuracy_score(y, hierarchical_labels)\n",
    "acc1"
   ]
  },
  {
   "cell_type": "code",
   "execution_count": null,
   "id": "daedd624",
   "metadata": {},
   "outputs": [],
   "source": [
    "acc1 = accuracy_score(y, hierarchical_labels)\n",
    "acc2 = accuracy_score(y, 1 - hierarchical_labels)"
   ]
  },
  {
   "cell_type": "code",
   "execution_count": null,
   "id": "3348056f",
   "metadata": {},
   "outputs": [],
   "source": [
    "hierarchical_accuracy = max(acc1, acc2)\n",
    "print(\"Hierarchical Clustering Accuracy:\", hierarchical_accuracy)"
   ]
  },
  {
   "cell_type": "code",
   "execution_count": null,
   "id": "87ea5cd9",
   "metadata": {},
   "outputs": [],
   "source": [
    "hierarchical_silhouette = silhouette_score(X_scaled, hierarchical_labels)\n",
    "\n"
   ]
  },
  {
   "cell_type": "code",
   "execution_count": null,
   "id": "36cb848f",
   "metadata": {},
   "outputs": [],
   "source": [
    "print(\"\\n=== Hierarchical Clustering Results ===\")\n",
    "print(\"Accuracy:\", hierarchical_accuracy)\n",
    "print(\"Silhouette Score:\", hierarchical_silhouette)\n"
   ]
  },
  {
   "cell_type": "code",
   "execution_count": null,
   "id": "865305e1",
   "metadata": {},
   "outputs": [],
   "source": [
    "\n",
    "pca = PCA(n_components=2)\n",
    "X_pca = pca.fit_transform(X_scaled)\n",
    "plt.figure(figsize=(12, 5))\n",
    "plt.subplot(1, 2, 1)\n",
    "plt.scatter(X_pca[:, 0], X_pca[:, 1], c=kmeans_labels, cmap='viridis', s=20)\n",
    "plt.title('KMeans Clustering')\n",
    "plt.xlabel('PCA 1')\n",
    "plt.ylabel('PCA 2')"
   ]
  },
  {
   "cell_type": "code",
   "execution_count": null,
   "id": "631346ba",
   "metadata": {},
   "outputs": [],
   "source": [
    "hierarchical = AgglomerativeClustering(n_clusters=2)\n",
    "hierarchical_labels = hierarchical.fit_predict(X_scaled)\n",
    "plt.subplot(1, 2, 2)\n",
    "plt.scatter(X_pca[:, 0], X_pca[:, 1], c=hierarchical_labels, cmap='plasma', s=20)\n",
    "plt.title('Hierarchical Clustering')\n",
    "plt.xlabel('PCA 1')\n",
    "plt.ylabel('PCA 2')\n",
    "plt.tight_layout()\n",
    "plt.show()"
   ]
  },
  {
   "cell_type": "code",
   "execution_count": null,
   "id": "f42d29f1",
   "metadata": {},
   "outputs": [],
   "source": [
    "plt.figure(figsize=(10, 6))\n",
    "sns.scatterplot(x=X_scaled[:, 0], y=X_scaled[:, 1], hue=kmeans_labels, palette='Set2')\n",
    "plt.title(\"K-Means Clustering Visualization\")\n",
    "plt.xlabel(\"Feature 1\")\n",
    "plt.ylabel(\"Feature 2\")\n",
    "plt.legend(title=\"Cluster\")\n",
    "plt.show()"
   ]
  },
  {
   "cell_type": "code",
   "execution_count": null,
   "id": "304d674c",
   "metadata": {},
   "outputs": [],
   "source": [
    "\n",
    "plt.figure(figsize=(12, 6))\n",
    "dendrogram = sch.dendrogram(sch.linkage(X_scaled, method='ward'))\n",
    "plt.title(\"Dendrogram (Hierarchical Clustering)\")\n",
    "plt.xlabel(\"Samples\")\n",
    "plt.ylabel(\"Euclidean Distance\")\n",
    "plt.axhline(y=200, color='purple', linestyle='--')  \n",
    "plt.show()\n"
   ]
  }
 ],
 "metadata": {
  "kernelspec": {
   "display_name": "tf_env",
   "language": "python",
   "name": "python3"
  },
  "language_info": {
   "codemirror_mode": {
    "name": "ipython",
    "version": 3
   },
   "file_extension": ".py",
   "mimetype": "text/x-python",
   "name": "python",
   "nbconvert_exporter": "python",
   "pygments_lexer": "ipython3",
   "version": "3.10.16"
  }
 },
 "nbformat": 4,
 "nbformat_minor": 5
}
